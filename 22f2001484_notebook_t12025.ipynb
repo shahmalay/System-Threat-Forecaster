{
  "metadata": {
    "kernelspec": {
      "language": "python",
      "display_name": "Python 3",
      "name": "python3"
    },
    "language_info": {
      "name": "python",
      "version": "3.10.12",
      "mimetype": "text/x-python",
      "codemirror_mode": {
        "name": "ipython",
        "version": 3
      },
      "pygments_lexer": "ipython3",
      "nbconvert_exporter": "python",
      "file_extension": ".py"
    },
    "kaggle": {
      "accelerator": "none",
      "dataSources": [
        {
          "sourceId": 90791,
          "databundleVersionId": 10592855,
          "sourceType": "competition"
        }
      ],
      "dockerImageVersionId": 30839,
      "isInternetEnabled": false,
      "language": "python",
      "sourceType": "notebook",
      "isGpuEnabled": false
    },
    "colab": {
      "name": "22f2001484-notebook-t12025",
      "provenance": []
    }
  },
  "nbformat_minor": 0,
  "nbformat": 4,
  "cells": [
    {
      "cell_type": "code",
      "source": [
        "# Importing required libraries\n",
        "import numpy as np  # for mathematical computations\n",
        "import pandas as pd  # for handling and analyzing data\n",
        "\n",
        "def sumbit_to_competition(model):\n",
        "    # Load the test dataset\n",
        "    test_set = pd.read_csv(\"/test.csv\")\n",
        "    pred = model.predict(test_set)\n",
        "\n",
        "    # Creating a submission DataFrame\n",
        "    submission = pd.DataFrame({\"id\": range(0,test_set.shape[0]), \"target\": pred})\n",
        "\n",
        "    submission.to_csv('submission.csv',index=False)\n",
        "    print(submission.head(5))"
      ],
      "metadata": {
        "trusted": true,
        "execution": {
          "iopub.status.busy": "2025-03-21T04:57:00.756741Z",
          "iopub.execute_input": "2025-03-21T04:57:00.75735Z",
          "iopub.status.idle": "2025-03-21T04:57:00.762321Z",
          "shell.execute_reply.started": "2025-03-21T04:57:00.757309Z",
          "shell.execute_reply": "2025-03-21T04:57:00.761282Z"
        },
        "id": "FPYYewVo25-T"
      },
      "outputs": [],
      "execution_count": 2
    },
    {
      "cell_type": "markdown",
      "source": [
        "# EDA"
      ],
      "metadata": {
        "id": "Yx_txTk125-V"
      }
    },
    {
      "cell_type": "code",
      "source": [
        "train_df = pd.read_csv('/train.csv')\n",
        "# Display a summary of the train dataset\n",
        "train_df.info()\n",
        "# train_df.head()"
      ],
      "metadata": {
        "trusted": true,
        "execution": {
          "iopub.status.busy": "2025-03-21T04:57:00.764628Z",
          "iopub.execute_input": "2025-03-21T04:57:00.764933Z",
          "iopub.status.idle": "2025-03-21T04:57:02.753533Z",
          "shell.execute_reply.started": "2025-03-21T04:57:00.764904Z",
          "shell.execute_reply": "2025-03-21T04:57:02.752459Z"
        },
        "colab": {
          "base_uri": "https://localhost:8080/"
        },
        "id": "fzbjtQxZ25-c",
        "outputId": "dd1e495b-f468-46b8-f2a4-3ed26e604b18"
      },
      "outputs": [
        {
          "output_type": "stream",
          "name": "stdout",
          "text": [
            "<class 'pandas.core.frame.DataFrame'>\n",
            "RangeIndex: 100000 entries, 0 to 99999\n",
            "Data columns (total 76 columns):\n",
            " #   Column                              Non-Null Count   Dtype  \n",
            "---  ------                              --------------   -----  \n",
            " 0   MachineID                           100000 non-null  object \n",
            " 1   ProductName                         100000 non-null  object \n",
            " 2   EngineVersion                       100000 non-null  object \n",
            " 3   AppVersion                          100000 non-null  object \n",
            " 4   SignatureVersion                    100000 non-null  object \n",
            " 5   IsBetaUser                          100000 non-null  int64  \n",
            " 6   RealTimeProtectionState             99934 non-null   float64\n",
            " 7   IsPassiveModeEnabled                100000 non-null  int64  \n",
            " 8   AntivirusConfigID                   99924 non-null   float64\n",
            " 9   NumAntivirusProductsInstalled       99924 non-null   float64\n",
            " 10  NumAntivirusProductsEnabled         99924 non-null   float64\n",
            " 11  HasTpm                              100000 non-null  int64  \n",
            " 12  CountryID                           100000 non-null  int64  \n",
            " 13  CityID                              99377 non-null   float64\n",
            " 14  GeoRegionID                         100000 non-null  float64\n",
            " 15  LocaleEnglishNameID                 100000 non-null  int64  \n",
            " 16  PlatformType                        100000 non-null  object \n",
            " 17  Processor                           100000 non-null  object \n",
            " 18  OSVersion                           100000 non-null  object \n",
            " 19  OSBuildNumber                       100000 non-null  int64  \n",
            " 20  OSProductSuite                      100000 non-null  int64  \n",
            " 21  OsPlatformSubRelease                100000 non-null  object \n",
            " 22  OSBuildLab                          100000 non-null  object \n",
            " 23  SKUEditionName                      100000 non-null  object \n",
            " 24  IsSystemProtected                   99924 non-null   float64\n",
            " 25  AutoSampleSubmissionEnabled         100000 non-null  int64  \n",
            " 26  SMode                               99019 non-null   float64\n",
            " 27  IEVersionID                         99893 non-null   float64\n",
            " 28  FirewallEnabled                     99834 non-null   float64\n",
            " 29  EnableLUA                           99981 non-null   float64\n",
            " 30  MDC2FormFactor                      100000 non-null  object \n",
            " 31  DeviceFamily                        100000 non-null  object \n",
            " 32  OEMNameID                           99788 non-null   float64\n",
            " 33  OEMModelID                          99772 non-null   float64\n",
            " 34  ProcessorCoreCount                  99915 non-null   float64\n",
            " 35  ProcessorManufacturerID             99915 non-null   float64\n",
            " 36  ProcessorModelID                    99915 non-null   float64\n",
            " 37  PrimaryDiskCapacityMB               99890 non-null   float64\n",
            " 38  PrimaryDiskType                     99977 non-null   object \n",
            " 39  SystemVolumeCapacityMB              99890 non-null   float64\n",
            " 40  HasOpticalDiskDrive                 100000 non-null  int64  \n",
            " 41  TotalPhysicalRAMMB                  99849 non-null   float64\n",
            " 42  ChassisType                         99998 non-null   object \n",
            " 43  PrimaryDisplayDiagonalInches        99928 non-null   float64\n",
            " 44  PrimaryDisplayResolutionHorizontal  99928 non-null   float64\n",
            " 45  PrimaryDisplayResolutionVertical    99928 non-null   float64\n",
            " 46  PowerPlatformRole                   100000 non-null  object \n",
            " 47  InternalBatteryNumberOfCharges      99485 non-null   float64\n",
            " 48  NumericOSVersion                    100000 non-null  object \n",
            " 49  OSArchitecture                      100000 non-null  object \n",
            " 50  OSBranch                            100000 non-null  object \n",
            " 51  OSBuildNumberOnly                   100000 non-null  int64  \n",
            " 52  OSBuildRevisionOnly                 100000 non-null  int64  \n",
            " 53  OSEdition                           100000 non-null  object \n",
            " 54  OSSkuFriendlyName                   100000 non-null  object \n",
            " 55  OSInstallType                       100000 non-null  object \n",
            " 56  OSInstallLanguageID                 99887 non-null   float64\n",
            " 57  OSUILocaleID                        100000 non-null  int64  \n",
            " 58  AutoUpdateOptionsName               100000 non-null  object \n",
            " 59  IsPortableOS                        100000 non-null  int64  \n",
            " 60  OSGenuineState                      100000 non-null  object \n",
            " 61  LicenseActivationChannel            100000 non-null  object \n",
            " 62  IsFlightsDisabled                   99674 non-null   float64\n",
            " 63  FlightRing                          100000 non-null  object \n",
            " 64  FirmwareManufacturerID              99624 non-null   float64\n",
            " 65  FirmwareVersionID                   99666 non-null   float64\n",
            " 66  IsSecureBootEnabled                 100000 non-null  int64  \n",
            " 67  IsVirtualDevice                     99980 non-null   float64\n",
            " 68  IsTouchEnabled                      100000 non-null  int64  \n",
            " 69  IsPenCapable                        100000 non-null  int64  \n",
            " 70  IsAlwaysOnAlwaysConnectedCapable    99866 non-null   float64\n",
            " 71  IsGamer                             99441 non-null   float64\n",
            " 72  RegionIdentifier                    99441 non-null   float64\n",
            " 73  DateAS                              100000 non-null  object \n",
            " 74  DateOS                              99976 non-null   object \n",
            " 75  target                              100000 non-null  int64  \n",
            "dtypes: float64(31), int64(17), object(28)\n",
            "memory usage: 58.0+ MB\n"
          ]
        }
      ],
      "execution_count": 3
    },
    {
      "cell_type": "code",
      "source": [
        "test_df=pd.read_csv('/test.csv')\n",
        "# Display a summary of the test dataset\n",
        "test_df.head(5)"
      ],
      "metadata": {
        "trusted": true,
        "execution": {
          "iopub.status.busy": "2025-03-21T04:57:02.755086Z",
          "iopub.execute_input": "2025-03-21T04:57:02.755523Z",
          "iopub.status.idle": "2025-03-21T04:57:02.953101Z",
          "shell.execute_reply.started": "2025-03-21T04:57:02.755473Z",
          "shell.execute_reply": "2025-03-21T04:57:02.951929Z"
        },
        "colab": {
          "base_uri": "https://localhost:8080/",
          "height": 429
        },
        "id": "QtMBwBfg25-e",
        "outputId": "f473420b-6e44-480a-ac08-a9f25523c94a"
      },
      "outputs": [
        {
          "output_type": "execute_result",
          "data": {
            "text/plain": [
              "                          MachineID   ProductName EngineVersion  \\\n",
              "0  c2c61173092ad20db5585ca8c10de6e0  win8defender   1.1.15100.1   \n",
              "1  2e6bb5362ba1ce897feeb1de5edea686  win8defender   1.1.15100.1   \n",
              "2  692649baed1c50bb8d051ae7f06e3625  win8defender   1.1.15200.1   \n",
              "3  2ff95e7d97e9f80ec81c97622dd93ed6  win8defender   1.1.15300.6   \n",
              "4  256766b4c5011e146f05b323863e08a4  win8defender   1.1.14800.3   \n",
              "\n",
              "         AppVersion SignatureVersion  IsBetaUser  RealTimeProtectionState  \\\n",
              "0   4.18.1807.18075     1.273.1276.0           0                      7.0   \n",
              "1        4.10.209.0      1.273.371.0           0                      7.0   \n",
              "2   4.18.1807.18075      1.275.263.0           0                      7.0   \n",
              "3   4.18.1807.18075       1.277.58.0           0                      7.0   \n",
              "4  4.14.17639.18041      1.267.898.0           0                      7.0   \n",
              "\n",
              "   IsPassiveModeEnabled  AntivirusConfigID  NumAntivirusProductsInstalled  \\\n",
              "0                     0            53447.0                            1.0   \n",
              "1                     0            46184.0                            2.0   \n",
              "2                     0            51954.0                            2.0   \n",
              "3                     0            41571.0                            2.0   \n",
              "4                     0            40645.0                            3.0   \n",
              "\n",
              "   ...  FirmwareVersionID  IsSecureBootEnabled  IsVirtualDevice  \\\n",
              "0  ...            48751.0                    0              0.0   \n",
              "1  ...            64709.0                    1              0.0   \n",
              "2  ...            33094.0                    1              0.0   \n",
              "3  ...            26184.0                    1              0.0   \n",
              "4  ...            12126.0                    0              0.0   \n",
              "\n",
              "   IsTouchEnabled  IsPenCapable  IsAlwaysOnAlwaysConnectedCapable IsGamer  \\\n",
              "0               0             0                               0.0     1.0   \n",
              "1               0             0                               0.0     0.0   \n",
              "2               0             0                               0.0     0.0   \n",
              "3               0             0                               0.0     0.0   \n",
              "4               0             0                               0.0     0.0   \n",
              "\n",
              "  RegionIdentifier               DateAS      DateOS  \n",
              "0             11.0  2018-08-12 13:12:00  2018-07-10  \n",
              "1             12.0  2018-07-26 06:54:00  2016-10-11  \n",
              "2             10.0  2018-08-27 17:29:00  2018-05-08  \n",
              "3             10.0  2018-09-25 22:13:00  2018-05-08  \n",
              "4              7.0  2018-05-06 01:31:00  2018-06-12  \n",
              "\n",
              "[5 rows x 75 columns]"
            ],
            "text/html": [
              "\n",
              "  <div id=\"df-8126070f-dbff-4cda-a7e4-a4062be683ce\" class=\"colab-df-container\">\n",
              "    <div>\n",
              "<style scoped>\n",
              "    .dataframe tbody tr th:only-of-type {\n",
              "        vertical-align: middle;\n",
              "    }\n",
              "\n",
              "    .dataframe tbody tr th {\n",
              "        vertical-align: top;\n",
              "    }\n",
              "\n",
              "    .dataframe thead th {\n",
              "        text-align: right;\n",
              "    }\n",
              "</style>\n",
              "<table border=\"1\" class=\"dataframe\">\n",
              "  <thead>\n",
              "    <tr style=\"text-align: right;\">\n",
              "      <th></th>\n",
              "      <th>MachineID</th>\n",
              "      <th>ProductName</th>\n",
              "      <th>EngineVersion</th>\n",
              "      <th>AppVersion</th>\n",
              "      <th>SignatureVersion</th>\n",
              "      <th>IsBetaUser</th>\n",
              "      <th>RealTimeProtectionState</th>\n",
              "      <th>IsPassiveModeEnabled</th>\n",
              "      <th>AntivirusConfigID</th>\n",
              "      <th>NumAntivirusProductsInstalled</th>\n",
              "      <th>...</th>\n",
              "      <th>FirmwareVersionID</th>\n",
              "      <th>IsSecureBootEnabled</th>\n",
              "      <th>IsVirtualDevice</th>\n",
              "      <th>IsTouchEnabled</th>\n",
              "      <th>IsPenCapable</th>\n",
              "      <th>IsAlwaysOnAlwaysConnectedCapable</th>\n",
              "      <th>IsGamer</th>\n",
              "      <th>RegionIdentifier</th>\n",
              "      <th>DateAS</th>\n",
              "      <th>DateOS</th>\n",
              "    </tr>\n",
              "  </thead>\n",
              "  <tbody>\n",
              "    <tr>\n",
              "      <th>0</th>\n",
              "      <td>c2c61173092ad20db5585ca8c10de6e0</td>\n",
              "      <td>win8defender</td>\n",
              "      <td>1.1.15100.1</td>\n",
              "      <td>4.18.1807.18075</td>\n",
              "      <td>1.273.1276.0</td>\n",
              "      <td>0</td>\n",
              "      <td>7.0</td>\n",
              "      <td>0</td>\n",
              "      <td>53447.0</td>\n",
              "      <td>1.0</td>\n",
              "      <td>...</td>\n",
              "      <td>48751.0</td>\n",
              "      <td>0</td>\n",
              "      <td>0.0</td>\n",
              "      <td>0</td>\n",
              "      <td>0</td>\n",
              "      <td>0.0</td>\n",
              "      <td>1.0</td>\n",
              "      <td>11.0</td>\n",
              "      <td>2018-08-12 13:12:00</td>\n",
              "      <td>2018-07-10</td>\n",
              "    </tr>\n",
              "    <tr>\n",
              "      <th>1</th>\n",
              "      <td>2e6bb5362ba1ce897feeb1de5edea686</td>\n",
              "      <td>win8defender</td>\n",
              "      <td>1.1.15100.1</td>\n",
              "      <td>4.10.209.0</td>\n",
              "      <td>1.273.371.0</td>\n",
              "      <td>0</td>\n",
              "      <td>7.0</td>\n",
              "      <td>0</td>\n",
              "      <td>46184.0</td>\n",
              "      <td>2.0</td>\n",
              "      <td>...</td>\n",
              "      <td>64709.0</td>\n",
              "      <td>1</td>\n",
              "      <td>0.0</td>\n",
              "      <td>0</td>\n",
              "      <td>0</td>\n",
              "      <td>0.0</td>\n",
              "      <td>0.0</td>\n",
              "      <td>12.0</td>\n",
              "      <td>2018-07-26 06:54:00</td>\n",
              "      <td>2016-10-11</td>\n",
              "    </tr>\n",
              "    <tr>\n",
              "      <th>2</th>\n",
              "      <td>692649baed1c50bb8d051ae7f06e3625</td>\n",
              "      <td>win8defender</td>\n",
              "      <td>1.1.15200.1</td>\n",
              "      <td>4.18.1807.18075</td>\n",
              "      <td>1.275.263.0</td>\n",
              "      <td>0</td>\n",
              "      <td>7.0</td>\n",
              "      <td>0</td>\n",
              "      <td>51954.0</td>\n",
              "      <td>2.0</td>\n",
              "      <td>...</td>\n",
              "      <td>33094.0</td>\n",
              "      <td>1</td>\n",
              "      <td>0.0</td>\n",
              "      <td>0</td>\n",
              "      <td>0</td>\n",
              "      <td>0.0</td>\n",
              "      <td>0.0</td>\n",
              "      <td>10.0</td>\n",
              "      <td>2018-08-27 17:29:00</td>\n",
              "      <td>2018-05-08</td>\n",
              "    </tr>\n",
              "    <tr>\n",
              "      <th>3</th>\n",
              "      <td>2ff95e7d97e9f80ec81c97622dd93ed6</td>\n",
              "      <td>win8defender</td>\n",
              "      <td>1.1.15300.6</td>\n",
              "      <td>4.18.1807.18075</td>\n",
              "      <td>1.277.58.0</td>\n",
              "      <td>0</td>\n",
              "      <td>7.0</td>\n",
              "      <td>0</td>\n",
              "      <td>41571.0</td>\n",
              "      <td>2.0</td>\n",
              "      <td>...</td>\n",
              "      <td>26184.0</td>\n",
              "      <td>1</td>\n",
              "      <td>0.0</td>\n",
              "      <td>0</td>\n",
              "      <td>0</td>\n",
              "      <td>0.0</td>\n",
              "      <td>0.0</td>\n",
              "      <td>10.0</td>\n",
              "      <td>2018-09-25 22:13:00</td>\n",
              "      <td>2018-05-08</td>\n",
              "    </tr>\n",
              "    <tr>\n",
              "      <th>4</th>\n",
              "      <td>256766b4c5011e146f05b323863e08a4</td>\n",
              "      <td>win8defender</td>\n",
              "      <td>1.1.14800.3</td>\n",
              "      <td>4.14.17639.18041</td>\n",
              "      <td>1.267.898.0</td>\n",
              "      <td>0</td>\n",
              "      <td>7.0</td>\n",
              "      <td>0</td>\n",
              "      <td>40645.0</td>\n",
              "      <td>3.0</td>\n",
              "      <td>...</td>\n",
              "      <td>12126.0</td>\n",
              "      <td>0</td>\n",
              "      <td>0.0</td>\n",
              "      <td>0</td>\n",
              "      <td>0</td>\n",
              "      <td>0.0</td>\n",
              "      <td>0.0</td>\n",
              "      <td>7.0</td>\n",
              "      <td>2018-05-06 01:31:00</td>\n",
              "      <td>2018-06-12</td>\n",
              "    </tr>\n",
              "  </tbody>\n",
              "</table>\n",
              "<p>5 rows × 75 columns</p>\n",
              "</div>\n",
              "    <div class=\"colab-df-buttons\">\n",
              "\n",
              "  <div class=\"colab-df-container\">\n",
              "    <button class=\"colab-df-convert\" onclick=\"convertToInteractive('df-8126070f-dbff-4cda-a7e4-a4062be683ce')\"\n",
              "            title=\"Convert this dataframe to an interactive table.\"\n",
              "            style=\"display:none;\">\n",
              "\n",
              "  <svg xmlns=\"http://www.w3.org/2000/svg\" height=\"24px\" viewBox=\"0 -960 960 960\">\n",
              "    <path d=\"M120-120v-720h720v720H120Zm60-500h600v-160H180v160Zm220 220h160v-160H400v160Zm0 220h160v-160H400v160ZM180-400h160v-160H180v160Zm440 0h160v-160H620v160ZM180-180h160v-160H180v160Zm440 0h160v-160H620v160Z\"/>\n",
              "  </svg>\n",
              "    </button>\n",
              "\n",
              "  <style>\n",
              "    .colab-df-container {\n",
              "      display:flex;\n",
              "      gap: 12px;\n",
              "    }\n",
              "\n",
              "    .colab-df-convert {\n",
              "      background-color: #E8F0FE;\n",
              "      border: none;\n",
              "      border-radius: 50%;\n",
              "      cursor: pointer;\n",
              "      display: none;\n",
              "      fill: #1967D2;\n",
              "      height: 32px;\n",
              "      padding: 0 0 0 0;\n",
              "      width: 32px;\n",
              "    }\n",
              "\n",
              "    .colab-df-convert:hover {\n",
              "      background-color: #E2EBFA;\n",
              "      box-shadow: 0px 1px 2px rgba(60, 64, 67, 0.3), 0px 1px 3px 1px rgba(60, 64, 67, 0.15);\n",
              "      fill: #174EA6;\n",
              "    }\n",
              "\n",
              "    .colab-df-buttons div {\n",
              "      margin-bottom: 4px;\n",
              "    }\n",
              "\n",
              "    [theme=dark] .colab-df-convert {\n",
              "      background-color: #3B4455;\n",
              "      fill: #D2E3FC;\n",
              "    }\n",
              "\n",
              "    [theme=dark] .colab-df-convert:hover {\n",
              "      background-color: #434B5C;\n",
              "      box-shadow: 0px 1px 3px 1px rgba(0, 0, 0, 0.15);\n",
              "      filter: drop-shadow(0px 1px 2px rgba(0, 0, 0, 0.3));\n",
              "      fill: #FFFFFF;\n",
              "    }\n",
              "  </style>\n",
              "\n",
              "    <script>\n",
              "      const buttonEl =\n",
              "        document.querySelector('#df-8126070f-dbff-4cda-a7e4-a4062be683ce button.colab-df-convert');\n",
              "      buttonEl.style.display =\n",
              "        google.colab.kernel.accessAllowed ? 'block' : 'none';\n",
              "\n",
              "      async function convertToInteractive(key) {\n",
              "        const element = document.querySelector('#df-8126070f-dbff-4cda-a7e4-a4062be683ce');\n",
              "        const dataTable =\n",
              "          await google.colab.kernel.invokeFunction('convertToInteractive',\n",
              "                                                    [key], {});\n",
              "        if (!dataTable) return;\n",
              "\n",
              "        const docLinkHtml = 'Like what you see? Visit the ' +\n",
              "          '<a target=\"_blank\" href=https://colab.research.google.com/notebooks/data_table.ipynb>data table notebook</a>'\n",
              "          + ' to learn more about interactive tables.';\n",
              "        element.innerHTML = '';\n",
              "        dataTable['output_type'] = 'display_data';\n",
              "        await google.colab.output.renderOutput(dataTable, element);\n",
              "        const docLink = document.createElement('div');\n",
              "        docLink.innerHTML = docLinkHtml;\n",
              "        element.appendChild(docLink);\n",
              "      }\n",
              "    </script>\n",
              "  </div>\n",
              "\n",
              "\n",
              "    <div id=\"df-3057145b-5856-44ab-8841-b9ad56556568\">\n",
              "      <button class=\"colab-df-quickchart\" onclick=\"quickchart('df-3057145b-5856-44ab-8841-b9ad56556568')\"\n",
              "                title=\"Suggest charts\"\n",
              "                style=\"display:none;\">\n",
              "\n",
              "<svg xmlns=\"http://www.w3.org/2000/svg\" height=\"24px\"viewBox=\"0 0 24 24\"\n",
              "     width=\"24px\">\n",
              "    <g>\n",
              "        <path d=\"M19 3H5c-1.1 0-2 .9-2 2v14c0 1.1.9 2 2 2h14c1.1 0 2-.9 2-2V5c0-1.1-.9-2-2-2zM9 17H7v-7h2v7zm4 0h-2V7h2v10zm4 0h-2v-4h2v4z\"/>\n",
              "    </g>\n",
              "</svg>\n",
              "      </button>\n",
              "\n",
              "<style>\n",
              "  .colab-df-quickchart {\n",
              "      --bg-color: #E8F0FE;\n",
              "      --fill-color: #1967D2;\n",
              "      --hover-bg-color: #E2EBFA;\n",
              "      --hover-fill-color: #174EA6;\n",
              "      --disabled-fill-color: #AAA;\n",
              "      --disabled-bg-color: #DDD;\n",
              "  }\n",
              "\n",
              "  [theme=dark] .colab-df-quickchart {\n",
              "      --bg-color: #3B4455;\n",
              "      --fill-color: #D2E3FC;\n",
              "      --hover-bg-color: #434B5C;\n",
              "      --hover-fill-color: #FFFFFF;\n",
              "      --disabled-bg-color: #3B4455;\n",
              "      --disabled-fill-color: #666;\n",
              "  }\n",
              "\n",
              "  .colab-df-quickchart {\n",
              "    background-color: var(--bg-color);\n",
              "    border: none;\n",
              "    border-radius: 50%;\n",
              "    cursor: pointer;\n",
              "    display: none;\n",
              "    fill: var(--fill-color);\n",
              "    height: 32px;\n",
              "    padding: 0;\n",
              "    width: 32px;\n",
              "  }\n",
              "\n",
              "  .colab-df-quickchart:hover {\n",
              "    background-color: var(--hover-bg-color);\n",
              "    box-shadow: 0 1px 2px rgba(60, 64, 67, 0.3), 0 1px 3px 1px rgba(60, 64, 67, 0.15);\n",
              "    fill: var(--button-hover-fill-color);\n",
              "  }\n",
              "\n",
              "  .colab-df-quickchart-complete:disabled,\n",
              "  .colab-df-quickchart-complete:disabled:hover {\n",
              "    background-color: var(--disabled-bg-color);\n",
              "    fill: var(--disabled-fill-color);\n",
              "    box-shadow: none;\n",
              "  }\n",
              "\n",
              "  .colab-df-spinner {\n",
              "    border: 2px solid var(--fill-color);\n",
              "    border-color: transparent;\n",
              "    border-bottom-color: var(--fill-color);\n",
              "    animation:\n",
              "      spin 1s steps(1) infinite;\n",
              "  }\n",
              "\n",
              "  @keyframes spin {\n",
              "    0% {\n",
              "      border-color: transparent;\n",
              "      border-bottom-color: var(--fill-color);\n",
              "      border-left-color: var(--fill-color);\n",
              "    }\n",
              "    20% {\n",
              "      border-color: transparent;\n",
              "      border-left-color: var(--fill-color);\n",
              "      border-top-color: var(--fill-color);\n",
              "    }\n",
              "    30% {\n",
              "      border-color: transparent;\n",
              "      border-left-color: var(--fill-color);\n",
              "      border-top-color: var(--fill-color);\n",
              "      border-right-color: var(--fill-color);\n",
              "    }\n",
              "    40% {\n",
              "      border-color: transparent;\n",
              "      border-right-color: var(--fill-color);\n",
              "      border-top-color: var(--fill-color);\n",
              "    }\n",
              "    60% {\n",
              "      border-color: transparent;\n",
              "      border-right-color: var(--fill-color);\n",
              "    }\n",
              "    80% {\n",
              "      border-color: transparent;\n",
              "      border-right-color: var(--fill-color);\n",
              "      border-bottom-color: var(--fill-color);\n",
              "    }\n",
              "    90% {\n",
              "      border-color: transparent;\n",
              "      border-bottom-color: var(--fill-color);\n",
              "    }\n",
              "  }\n",
              "</style>\n",
              "\n",
              "      <script>\n",
              "        async function quickchart(key) {\n",
              "          const quickchartButtonEl =\n",
              "            document.querySelector('#' + key + ' button');\n",
              "          quickchartButtonEl.disabled = true;  // To prevent multiple clicks.\n",
              "          quickchartButtonEl.classList.add('colab-df-spinner');\n",
              "          try {\n",
              "            const charts = await google.colab.kernel.invokeFunction(\n",
              "                'suggestCharts', [key], {});\n",
              "          } catch (error) {\n",
              "            console.error('Error during call to suggestCharts:', error);\n",
              "          }\n",
              "          quickchartButtonEl.classList.remove('colab-df-spinner');\n",
              "          quickchartButtonEl.classList.add('colab-df-quickchart-complete');\n",
              "        }\n",
              "        (() => {\n",
              "          let quickchartButtonEl =\n",
              "            document.querySelector('#df-3057145b-5856-44ab-8841-b9ad56556568 button');\n",
              "          quickchartButtonEl.style.display =\n",
              "            google.colab.kernel.accessAllowed ? 'block' : 'none';\n",
              "        })();\n",
              "      </script>\n",
              "    </div>\n",
              "\n",
              "    </div>\n",
              "  </div>\n"
            ],
            "application/vnd.google.colaboratory.intrinsic+json": {
              "type": "dataframe",
              "variable_name": "test_df"
            }
          },
          "metadata": {},
          "execution_count": 6
        }
      ],
      "execution_count": 6
    },
    {
      "cell_type": "code",
      "source": [
        "print(train_df.shape)\n",
        "print(test_df.shape)"
      ],
      "metadata": {
        "trusted": true,
        "execution": {
          "iopub.status.busy": "2025-03-21T04:57:02.954233Z",
          "iopub.execute_input": "2025-03-21T04:57:02.95457Z",
          "iopub.status.idle": "2025-03-21T04:57:02.960218Z",
          "shell.execute_reply.started": "2025-03-21T04:57:02.954543Z",
          "shell.execute_reply": "2025-03-21T04:57:02.958998Z"
        },
        "colab": {
          "base_uri": "https://localhost:8080/"
        },
        "id": "2Fk_4jHF25-g",
        "outputId": "dbac4e86-93f6-45a4-f842-f5ded8865239"
      },
      "outputs": [
        {
          "output_type": "stream",
          "name": "stdout",
          "text": [
            "(100000, 76)\n",
            "(10000, 75)\n"
          ]
        }
      ],
      "execution_count": 7
    },
    {
      "cell_type": "code",
      "source": [
        "# Checking for missing values in each column of the training dataset\n",
        "train_df.isna().sum()"
      ],
      "metadata": {
        "trusted": true,
        "execution": {
          "iopub.status.busy": "2025-03-21T04:57:02.961347Z",
          "iopub.execute_input": "2025-03-21T04:57:02.961715Z",
          "iopub.status.idle": "2025-03-21T04:57:03.129868Z",
          "shell.execute_reply.started": "2025-03-21T04:57:02.961675Z",
          "shell.execute_reply": "2025-03-21T04:57:03.128667Z"
        },
        "colab": {
          "base_uri": "https://localhost:8080/",
          "height": 458
        },
        "id": "7MCDgJG425-m",
        "outputId": "cfcce99c-968f-47a3-d86a-676ac0ce0b5c"
      },
      "outputs": [
        {
          "output_type": "execute_result",
          "data": {
            "text/plain": [
              "MachineID             0\n",
              "ProductName           0\n",
              "EngineVersion         0\n",
              "AppVersion            0\n",
              "SignatureVersion      0\n",
              "                   ... \n",
              "IsGamer             559\n",
              "RegionIdentifier    559\n",
              "DateAS                0\n",
              "DateOS               24\n",
              "target                0\n",
              "Length: 76, dtype: int64"
            ],
            "text/html": [
              "<div>\n",
              "<style scoped>\n",
              "    .dataframe tbody tr th:only-of-type {\n",
              "        vertical-align: middle;\n",
              "    }\n",
              "\n",
              "    .dataframe tbody tr th {\n",
              "        vertical-align: top;\n",
              "    }\n",
              "\n",
              "    .dataframe thead th {\n",
              "        text-align: right;\n",
              "    }\n",
              "</style>\n",
              "<table border=\"1\" class=\"dataframe\">\n",
              "  <thead>\n",
              "    <tr style=\"text-align: right;\">\n",
              "      <th></th>\n",
              "      <th>0</th>\n",
              "    </tr>\n",
              "  </thead>\n",
              "  <tbody>\n",
              "    <tr>\n",
              "      <th>MachineID</th>\n",
              "      <td>0</td>\n",
              "    </tr>\n",
              "    <tr>\n",
              "      <th>ProductName</th>\n",
              "      <td>0</td>\n",
              "    </tr>\n",
              "    <tr>\n",
              "      <th>EngineVersion</th>\n",
              "      <td>0</td>\n",
              "    </tr>\n",
              "    <tr>\n",
              "      <th>AppVersion</th>\n",
              "      <td>0</td>\n",
              "    </tr>\n",
              "    <tr>\n",
              "      <th>SignatureVersion</th>\n",
              "      <td>0</td>\n",
              "    </tr>\n",
              "    <tr>\n",
              "      <th>...</th>\n",
              "      <td>...</td>\n",
              "    </tr>\n",
              "    <tr>\n",
              "      <th>IsGamer</th>\n",
              "      <td>559</td>\n",
              "    </tr>\n",
              "    <tr>\n",
              "      <th>RegionIdentifier</th>\n",
              "      <td>559</td>\n",
              "    </tr>\n",
              "    <tr>\n",
              "      <th>DateAS</th>\n",
              "      <td>0</td>\n",
              "    </tr>\n",
              "    <tr>\n",
              "      <th>DateOS</th>\n",
              "      <td>24</td>\n",
              "    </tr>\n",
              "    <tr>\n",
              "      <th>target</th>\n",
              "      <td>0</td>\n",
              "    </tr>\n",
              "  </tbody>\n",
              "</table>\n",
              "<p>76 rows × 1 columns</p>\n",
              "</div><br><label><b>dtype:</b> int64</label>"
            ]
          },
          "metadata": {},
          "execution_count": 8
        }
      ],
      "execution_count": 8
    },
    {
      "cell_type": "code",
      "source": [
        "# Count the number of unique values in each column of the training dataset\n",
        "train_df.nunique()"
      ],
      "metadata": {
        "trusted": true,
        "execution": {
          "iopub.status.busy": "2025-03-21T04:57:03.130634Z",
          "iopub.execute_input": "2025-03-21T04:57:03.130924Z",
          "iopub.status.idle": "2025-03-21T04:57:03.385042Z",
          "shell.execute_reply.started": "2025-03-21T04:57:03.1309Z",
          "shell.execute_reply": "2025-03-21T04:57:03.38403Z"
        },
        "colab": {
          "base_uri": "https://localhost:8080/",
          "height": 458
        },
        "id": "WLmCjFO425-p",
        "outputId": "aa45abfd-4720-4c2c-bbbe-f2afd44fac08"
      },
      "outputs": [
        {
          "output_type": "execute_result",
          "data": {
            "text/plain": [
              "MachineID           99835\n",
              "ProductName             2\n",
              "EngineVersion          37\n",
              "AppVersion             69\n",
              "SignatureVersion     2735\n",
              "                    ...  \n",
              "IsGamer                 2\n",
              "RegionIdentifier       15\n",
              "DateAS               2695\n",
              "DateOS                112\n",
              "target                  2\n",
              "Length: 76, dtype: int64"
            ],
            "text/html": [
              "<div>\n",
              "<style scoped>\n",
              "    .dataframe tbody tr th:only-of-type {\n",
              "        vertical-align: middle;\n",
              "    }\n",
              "\n",
              "    .dataframe tbody tr th {\n",
              "        vertical-align: top;\n",
              "    }\n",
              "\n",
              "    .dataframe thead th {\n",
              "        text-align: right;\n",
              "    }\n",
              "</style>\n",
              "<table border=\"1\" class=\"dataframe\">\n",
              "  <thead>\n",
              "    <tr style=\"text-align: right;\">\n",
              "      <th></th>\n",
              "      <th>0</th>\n",
              "    </tr>\n",
              "  </thead>\n",
              "  <tbody>\n",
              "    <tr>\n",
              "      <th>MachineID</th>\n",
              "      <td>99835</td>\n",
              "    </tr>\n",
              "    <tr>\n",
              "      <th>ProductName</th>\n",
              "      <td>2</td>\n",
              "    </tr>\n",
              "    <tr>\n",
              "      <th>EngineVersion</th>\n",
              "      <td>37</td>\n",
              "    </tr>\n",
              "    <tr>\n",
              "      <th>AppVersion</th>\n",
              "      <td>69</td>\n",
              "    </tr>\n",
              "    <tr>\n",
              "      <th>SignatureVersion</th>\n",
              "      <td>2735</td>\n",
              "    </tr>\n",
              "    <tr>\n",
              "      <th>...</th>\n",
              "      <td>...</td>\n",
              "    </tr>\n",
              "    <tr>\n",
              "      <th>IsGamer</th>\n",
              "      <td>2</td>\n",
              "    </tr>\n",
              "    <tr>\n",
              "      <th>RegionIdentifier</th>\n",
              "      <td>15</td>\n",
              "    </tr>\n",
              "    <tr>\n",
              "      <th>DateAS</th>\n",
              "      <td>2695</td>\n",
              "    </tr>\n",
              "    <tr>\n",
              "      <th>DateOS</th>\n",
              "      <td>112</td>\n",
              "    </tr>\n",
              "    <tr>\n",
              "      <th>target</th>\n",
              "      <td>2</td>\n",
              "    </tr>\n",
              "  </tbody>\n",
              "</table>\n",
              "<p>76 rows × 1 columns</p>\n",
              "</div><br><label><b>dtype:</b> int64</label>"
            ]
          },
          "metadata": {},
          "execution_count": 9
        }
      ],
      "execution_count": 9
    },
    {
      "cell_type": "markdown",
      "source": [
        "### Numerical Data"
      ],
      "metadata": {
        "id": "WaoQu2bE25-t"
      }
    },
    {
      "cell_type": "code",
      "source": [
        "# Selecting columns with only numerical data\n",
        "numerical_df = train_df.select_dtypes(include=['int64','float64'])\n",
        "numerical_df.head()"
      ],
      "metadata": {
        "trusted": true,
        "execution": {
          "iopub.status.busy": "2025-03-21T04:57:03.388752Z",
          "iopub.execute_input": "2025-03-21T04:57:03.389048Z",
          "iopub.status.idle": "2025-03-21T04:57:03.42697Z",
          "shell.execute_reply.started": "2025-03-21T04:57:03.389023Z",
          "shell.execute_reply": "2025-03-21T04:57:03.426013Z"
        },
        "colab": {
          "base_uri": "https://localhost:8080/",
          "height": 255
        },
        "id": "809JyMzb25-u",
        "outputId": "b109cc8f-73fd-4992-f922-20ab04b965ff"
      },
      "outputs": [
        {
          "output_type": "execute_result",
          "data": {
            "text/plain": [
              "   IsBetaUser  RealTimeProtectionState  IsPassiveModeEnabled  \\\n",
              "0           0                      7.0                     0   \n",
              "1           0                      7.0                     0   \n",
              "2           0                      7.0                     0   \n",
              "3           0                      7.0                     0   \n",
              "4           0                      7.0                     0   \n",
              "\n",
              "   AntivirusConfigID  NumAntivirusProductsInstalled  \\\n",
              "0            53447.0                            1.0   \n",
              "1            53447.0                            1.0   \n",
              "2            53447.0                            1.0   \n",
              "3            46413.0                            2.0   \n",
              "4            40466.0                            2.0   \n",
              "\n",
              "   NumAntivirusProductsEnabled  HasTpm  CountryID    CityID  GeoRegionID  ...  \\\n",
              "0                          1.0       1         51  120232.0         98.0  ...   \n",
              "1                          1.0       1        141  112854.0        167.0  ...   \n",
              "2                          1.0       1         51   41759.0         98.0  ...   \n",
              "3                          1.0       1         68   19507.0        276.0  ...   \n",
              "4                          1.0       1         43  117801.0         53.0  ...   \n",
              "\n",
              "   FirmwareManufacturerID  FirmwareVersionID  IsSecureBootEnabled  \\\n",
              "0                   513.0            21964.0                    0   \n",
              "1                   628.0            44548.0                    1   \n",
              "2                   142.0             9414.0                    0   \n",
              "3                   554.0            33060.0                    1   \n",
              "4                   628.0            13224.0                    0   \n",
              "\n",
              "   IsVirtualDevice  IsTouchEnabled  IsPenCapable  \\\n",
              "0              0.0               1             0   \n",
              "1              0.0               0             0   \n",
              "2              0.0               0             0   \n",
              "3              0.0               0             0   \n",
              "4              0.0               0             0   \n",
              "\n",
              "   IsAlwaysOnAlwaysConnectedCapable  IsGamer  RegionIdentifier  target  \n",
              "0                               1.0      0.0               6.0       0  \n",
              "1                               0.0      0.0              10.0       1  \n",
              "2                               0.0      1.0               6.0       1  \n",
              "3                               0.0      0.0              12.0       1  \n",
              "4                               0.0      1.0               7.0       0  \n",
              "\n",
              "[5 rows x 48 columns]"
            ],
            "text/html": [
              "\n",
              "  <div id=\"df-a1a550dc-1abf-48da-a0c6-4a8b83a2bf8a\" class=\"colab-df-container\">\n",
              "    <div>\n",
              "<style scoped>\n",
              "    .dataframe tbody tr th:only-of-type {\n",
              "        vertical-align: middle;\n",
              "    }\n",
              "\n",
              "    .dataframe tbody tr th {\n",
              "        vertical-align: top;\n",
              "    }\n",
              "\n",
              "    .dataframe thead th {\n",
              "        text-align: right;\n",
              "    }\n",
              "</style>\n",
              "<table border=\"1\" class=\"dataframe\">\n",
              "  <thead>\n",
              "    <tr style=\"text-align: right;\">\n",
              "      <th></th>\n",
              "      <th>IsBetaUser</th>\n",
              "      <th>RealTimeProtectionState</th>\n",
              "      <th>IsPassiveModeEnabled</th>\n",
              "      <th>AntivirusConfigID</th>\n",
              "      <th>NumAntivirusProductsInstalled</th>\n",
              "      <th>NumAntivirusProductsEnabled</th>\n",
              "      <th>HasTpm</th>\n",
              "      <th>CountryID</th>\n",
              "      <th>CityID</th>\n",
              "      <th>GeoRegionID</th>\n",
              "      <th>...</th>\n",
              "      <th>FirmwareManufacturerID</th>\n",
              "      <th>FirmwareVersionID</th>\n",
              "      <th>IsSecureBootEnabled</th>\n",
              "      <th>IsVirtualDevice</th>\n",
              "      <th>IsTouchEnabled</th>\n",
              "      <th>IsPenCapable</th>\n",
              "      <th>IsAlwaysOnAlwaysConnectedCapable</th>\n",
              "      <th>IsGamer</th>\n",
              "      <th>RegionIdentifier</th>\n",
              "      <th>target</th>\n",
              "    </tr>\n",
              "  </thead>\n",
              "  <tbody>\n",
              "    <tr>\n",
              "      <th>0</th>\n",
              "      <td>0</td>\n",
              "      <td>7.0</td>\n",
              "      <td>0</td>\n",
              "      <td>53447.0</td>\n",
              "      <td>1.0</td>\n",
              "      <td>1.0</td>\n",
              "      <td>1</td>\n",
              "      <td>51</td>\n",
              "      <td>120232.0</td>\n",
              "      <td>98.0</td>\n",
              "      <td>...</td>\n",
              "      <td>513.0</td>\n",
              "      <td>21964.0</td>\n",
              "      <td>0</td>\n",
              "      <td>0.0</td>\n",
              "      <td>1</td>\n",
              "      <td>0</td>\n",
              "      <td>1.0</td>\n",
              "      <td>0.0</td>\n",
              "      <td>6.0</td>\n",
              "      <td>0</td>\n",
              "    </tr>\n",
              "    <tr>\n",
              "      <th>1</th>\n",
              "      <td>0</td>\n",
              "      <td>7.0</td>\n",
              "      <td>0</td>\n",
              "      <td>53447.0</td>\n",
              "      <td>1.0</td>\n",
              "      <td>1.0</td>\n",
              "      <td>1</td>\n",
              "      <td>141</td>\n",
              "      <td>112854.0</td>\n",
              "      <td>167.0</td>\n",
              "      <td>...</td>\n",
              "      <td>628.0</td>\n",
              "      <td>44548.0</td>\n",
              "      <td>1</td>\n",
              "      <td>0.0</td>\n",
              "      <td>0</td>\n",
              "      <td>0</td>\n",
              "      <td>0.0</td>\n",
              "      <td>0.0</td>\n",
              "      <td>10.0</td>\n",
              "      <td>1</td>\n",
              "    </tr>\n",
              "    <tr>\n",
              "      <th>2</th>\n",
              "      <td>0</td>\n",
              "      <td>7.0</td>\n",
              "      <td>0</td>\n",
              "      <td>53447.0</td>\n",
              "      <td>1.0</td>\n",
              "      <td>1.0</td>\n",
              "      <td>1</td>\n",
              "      <td>51</td>\n",
              "      <td>41759.0</td>\n",
              "      <td>98.0</td>\n",
              "      <td>...</td>\n",
              "      <td>142.0</td>\n",
              "      <td>9414.0</td>\n",
              "      <td>0</td>\n",
              "      <td>0.0</td>\n",
              "      <td>0</td>\n",
              "      <td>0</td>\n",
              "      <td>0.0</td>\n",
              "      <td>1.0</td>\n",
              "      <td>6.0</td>\n",
              "      <td>1</td>\n",
              "    </tr>\n",
              "    <tr>\n",
              "      <th>3</th>\n",
              "      <td>0</td>\n",
              "      <td>7.0</td>\n",
              "      <td>0</td>\n",
              "      <td>46413.0</td>\n",
              "      <td>2.0</td>\n",
              "      <td>1.0</td>\n",
              "      <td>1</td>\n",
              "      <td>68</td>\n",
              "      <td>19507.0</td>\n",
              "      <td>276.0</td>\n",
              "      <td>...</td>\n",
              "      <td>554.0</td>\n",
              "      <td>33060.0</td>\n",
              "      <td>1</td>\n",
              "      <td>0.0</td>\n",
              "      <td>0</td>\n",
              "      <td>0</td>\n",
              "      <td>0.0</td>\n",
              "      <td>0.0</td>\n",
              "      <td>12.0</td>\n",
              "      <td>1</td>\n",
              "    </tr>\n",
              "    <tr>\n",
              "      <th>4</th>\n",
              "      <td>0</td>\n",
              "      <td>7.0</td>\n",
              "      <td>0</td>\n",
              "      <td>40466.0</td>\n",
              "      <td>2.0</td>\n",
              "      <td>1.0</td>\n",
              "      <td>1</td>\n",
              "      <td>43</td>\n",
              "      <td>117801.0</td>\n",
              "      <td>53.0</td>\n",
              "      <td>...</td>\n",
              "      <td>628.0</td>\n",
              "      <td>13224.0</td>\n",
              "      <td>0</td>\n",
              "      <td>0.0</td>\n",
              "      <td>0</td>\n",
              "      <td>0</td>\n",
              "      <td>0.0</td>\n",
              "      <td>1.0</td>\n",
              "      <td>7.0</td>\n",
              "      <td>0</td>\n",
              "    </tr>\n",
              "  </tbody>\n",
              "</table>\n",
              "<p>5 rows × 48 columns</p>\n",
              "</div>\n",
              "    <div class=\"colab-df-buttons\">\n",
              "\n",
              "  <div class=\"colab-df-container\">\n",
              "    <button class=\"colab-df-convert\" onclick=\"convertToInteractive('df-a1a550dc-1abf-48da-a0c6-4a8b83a2bf8a')\"\n",
              "            title=\"Convert this dataframe to an interactive table.\"\n",
              "            style=\"display:none;\">\n",
              "\n",
              "  <svg xmlns=\"http://www.w3.org/2000/svg\" height=\"24px\" viewBox=\"0 -960 960 960\">\n",
              "    <path d=\"M120-120v-720h720v720H120Zm60-500h600v-160H180v160Zm220 220h160v-160H400v160Zm0 220h160v-160H400v160ZM180-400h160v-160H180v160Zm440 0h160v-160H620v160ZM180-180h160v-160H180v160Zm440 0h160v-160H620v160Z\"/>\n",
              "  </svg>\n",
              "    </button>\n",
              "\n",
              "  <style>\n",
              "    .colab-df-container {\n",
              "      display:flex;\n",
              "      gap: 12px;\n",
              "    }\n",
              "\n",
              "    .colab-df-convert {\n",
              "      background-color: #E8F0FE;\n",
              "      border: none;\n",
              "      border-radius: 50%;\n",
              "      cursor: pointer;\n",
              "      display: none;\n",
              "      fill: #1967D2;\n",
              "      height: 32px;\n",
              "      padding: 0 0 0 0;\n",
              "      width: 32px;\n",
              "    }\n",
              "\n",
              "    .colab-df-convert:hover {\n",
              "      background-color: #E2EBFA;\n",
              "      box-shadow: 0px 1px 2px rgba(60, 64, 67, 0.3), 0px 1px 3px 1px rgba(60, 64, 67, 0.15);\n",
              "      fill: #174EA6;\n",
              "    }\n",
              "\n",
              "    .colab-df-buttons div {\n",
              "      margin-bottom: 4px;\n",
              "    }\n",
              "\n",
              "    [theme=dark] .colab-df-convert {\n",
              "      background-color: #3B4455;\n",
              "      fill: #D2E3FC;\n",
              "    }\n",
              "\n",
              "    [theme=dark] .colab-df-convert:hover {\n",
              "      background-color: #434B5C;\n",
              "      box-shadow: 0px 1px 3px 1px rgba(0, 0, 0, 0.15);\n",
              "      filter: drop-shadow(0px 1px 2px rgba(0, 0, 0, 0.3));\n",
              "      fill: #FFFFFF;\n",
              "    }\n",
              "  </style>\n",
              "\n",
              "    <script>\n",
              "      const buttonEl =\n",
              "        document.querySelector('#df-a1a550dc-1abf-48da-a0c6-4a8b83a2bf8a button.colab-df-convert');\n",
              "      buttonEl.style.display =\n",
              "        google.colab.kernel.accessAllowed ? 'block' : 'none';\n",
              "\n",
              "      async function convertToInteractive(key) {\n",
              "        const element = document.querySelector('#df-a1a550dc-1abf-48da-a0c6-4a8b83a2bf8a');\n",
              "        const dataTable =\n",
              "          await google.colab.kernel.invokeFunction('convertToInteractive',\n",
              "                                                    [key], {});\n",
              "        if (!dataTable) return;\n",
              "\n",
              "        const docLinkHtml = 'Like what you see? Visit the ' +\n",
              "          '<a target=\"_blank\" href=https://colab.research.google.com/notebooks/data_table.ipynb>data table notebook</a>'\n",
              "          + ' to learn more about interactive tables.';\n",
              "        element.innerHTML = '';\n",
              "        dataTable['output_type'] = 'display_data';\n",
              "        await google.colab.output.renderOutput(dataTable, element);\n",
              "        const docLink = document.createElement('div');\n",
              "        docLink.innerHTML = docLinkHtml;\n",
              "        element.appendChild(docLink);\n",
              "      }\n",
              "    </script>\n",
              "  </div>\n",
              "\n",
              "\n",
              "    <div id=\"df-c7f8c2c3-9bfb-41e9-a4ab-43e81099be3b\">\n",
              "      <button class=\"colab-df-quickchart\" onclick=\"quickchart('df-c7f8c2c3-9bfb-41e9-a4ab-43e81099be3b')\"\n",
              "                title=\"Suggest charts\"\n",
              "                style=\"display:none;\">\n",
              "\n",
              "<svg xmlns=\"http://www.w3.org/2000/svg\" height=\"24px\"viewBox=\"0 0 24 24\"\n",
              "     width=\"24px\">\n",
              "    <g>\n",
              "        <path d=\"M19 3H5c-1.1 0-2 .9-2 2v14c0 1.1.9 2 2 2h14c1.1 0 2-.9 2-2V5c0-1.1-.9-2-2-2zM9 17H7v-7h2v7zm4 0h-2V7h2v10zm4 0h-2v-4h2v4z\"/>\n",
              "    </g>\n",
              "</svg>\n",
              "      </button>\n",
              "\n",
              "<style>\n",
              "  .colab-df-quickchart {\n",
              "      --bg-color: #E8F0FE;\n",
              "      --fill-color: #1967D2;\n",
              "      --hover-bg-color: #E2EBFA;\n",
              "      --hover-fill-color: #174EA6;\n",
              "      --disabled-fill-color: #AAA;\n",
              "      --disabled-bg-color: #DDD;\n",
              "  }\n",
              "\n",
              "  [theme=dark] .colab-df-quickchart {\n",
              "      --bg-color: #3B4455;\n",
              "      --fill-color: #D2E3FC;\n",
              "      --hover-bg-color: #434B5C;\n",
              "      --hover-fill-color: #FFFFFF;\n",
              "      --disabled-bg-color: #3B4455;\n",
              "      --disabled-fill-color: #666;\n",
              "  }\n",
              "\n",
              "  .colab-df-quickchart {\n",
              "    background-color: var(--bg-color);\n",
              "    border: none;\n",
              "    border-radius: 50%;\n",
              "    cursor: pointer;\n",
              "    display: none;\n",
              "    fill: var(--fill-color);\n",
              "    height: 32px;\n",
              "    padding: 0;\n",
              "    width: 32px;\n",
              "  }\n",
              "\n",
              "  .colab-df-quickchart:hover {\n",
              "    background-color: var(--hover-bg-color);\n",
              "    box-shadow: 0 1px 2px rgba(60, 64, 67, 0.3), 0 1px 3px 1px rgba(60, 64, 67, 0.15);\n",
              "    fill: var(--button-hover-fill-color);\n",
              "  }\n",
              "\n",
              "  .colab-df-quickchart-complete:disabled,\n",
              "  .colab-df-quickchart-complete:disabled:hover {\n",
              "    background-color: var(--disabled-bg-color);\n",
              "    fill: var(--disabled-fill-color);\n",
              "    box-shadow: none;\n",
              "  }\n",
              "\n",
              "  .colab-df-spinner {\n",
              "    border: 2px solid var(--fill-color);\n",
              "    border-color: transparent;\n",
              "    border-bottom-color: var(--fill-color);\n",
              "    animation:\n",
              "      spin 1s steps(1) infinite;\n",
              "  }\n",
              "\n",
              "  @keyframes spin {\n",
              "    0% {\n",
              "      border-color: transparent;\n",
              "      border-bottom-color: var(--fill-color);\n",
              "      border-left-color: var(--fill-color);\n",
              "    }\n",
              "    20% {\n",
              "      border-color: transparent;\n",
              "      border-left-color: var(--fill-color);\n",
              "      border-top-color: var(--fill-color);\n",
              "    }\n",
              "    30% {\n",
              "      border-color: transparent;\n",
              "      border-left-color: var(--fill-color);\n",
              "      border-top-color: var(--fill-color);\n",
              "      border-right-color: var(--fill-color);\n",
              "    }\n",
              "    40% {\n",
              "      border-color: transparent;\n",
              "      border-right-color: var(--fill-color);\n",
              "      border-top-color: var(--fill-color);\n",
              "    }\n",
              "    60% {\n",
              "      border-color: transparent;\n",
              "      border-right-color: var(--fill-color);\n",
              "    }\n",
              "    80% {\n",
              "      border-color: transparent;\n",
              "      border-right-color: var(--fill-color);\n",
              "      border-bottom-color: var(--fill-color);\n",
              "    }\n",
              "    90% {\n",
              "      border-color: transparent;\n",
              "      border-bottom-color: var(--fill-color);\n",
              "    }\n",
              "  }\n",
              "</style>\n",
              "\n",
              "      <script>\n",
              "        async function quickchart(key) {\n",
              "          const quickchartButtonEl =\n",
              "            document.querySelector('#' + key + ' button');\n",
              "          quickchartButtonEl.disabled = true;  // To prevent multiple clicks.\n",
              "          quickchartButtonEl.classList.add('colab-df-spinner');\n",
              "          try {\n",
              "            const charts = await google.colab.kernel.invokeFunction(\n",
              "                'suggestCharts', [key], {});\n",
              "          } catch (error) {\n",
              "            console.error('Error during call to suggestCharts:', error);\n",
              "          }\n",
              "          quickchartButtonEl.classList.remove('colab-df-spinner');\n",
              "          quickchartButtonEl.classList.add('colab-df-quickchart-complete');\n",
              "        }\n",
              "        (() => {\n",
              "          let quickchartButtonEl =\n",
              "            document.querySelector('#df-c7f8c2c3-9bfb-41e9-a4ab-43e81099be3b button');\n",
              "          quickchartButtonEl.style.display =\n",
              "            google.colab.kernel.accessAllowed ? 'block' : 'none';\n",
              "        })();\n",
              "      </script>\n",
              "    </div>\n",
              "\n",
              "    </div>\n",
              "  </div>\n"
            ],
            "application/vnd.google.colaboratory.intrinsic+json": {
              "type": "dataframe",
              "variable_name": "numerical_df"
            }
          },
          "metadata": {},
          "execution_count": 10
        }
      ],
      "execution_count": 10
    },
    {
      "cell_type": "code",
      "source": [
        "# Compute and print the sum of unique values in each numerical col\n",
        "for col in numerical_df:\n",
        "    unique_values = numerical_df[col].unique()\n",
        "    print(col , unique_values.sum())"
      ],
      "metadata": {
        "trusted": true,
        "execution": {
          "iopub.status.busy": "2025-03-21T04:57:03.429138Z",
          "iopub.execute_input": "2025-03-21T04:57:03.42951Z",
          "iopub.status.idle": "2025-03-21T04:57:03.501668Z",
          "shell.execute_reply.started": "2025-03-21T04:57:03.429481Z",
          "shell.execute_reply": "2025-03-21T04:57:03.500814Z"
        },
        "colab": {
          "base_uri": "https://localhost:8080/"
        },
        "id": "hbkEHsvN25-w",
        "outputId": "d686f1c7-7144-4350-d6bd-7f039817bc0f"
      },
      "outputs": [
        {
          "output_type": "stream",
          "name": "stdout",
          "text": [
            "IsBetaUser 0\n",
            "RealTimeProtectionState nan\n",
            "IsPassiveModeEnabled 1\n",
            "AntivirusConfigID nan\n",
            "NumAntivirusProductsInstalled nan\n",
            "NumAntivirusProductsEnabled nan\n",
            "HasTpm 1\n",
            "CountryID 24399\n",
            "CityID nan\n",
            "GeoRegionID 34853.0\n",
            "LocaleEnglishNameID 23372\n",
            "OSBuildNumber 384654\n",
            "OSProductSuite 2801\n",
            "IsSystemProtected nan\n",
            "AutoSampleSubmissionEnabled 0\n",
            "SMode nan\n",
            "IEVersionID nan\n",
            "FirewallEnabled nan\n",
            "EnableLUA nan\n",
            "OEMNameID nan\n",
            "OEMModelID nan\n",
            "ProcessorCoreCount nan\n",
            "ProcessorManufacturerID nan\n",
            "ProcessorModelID nan\n",
            "PrimaryDiskCapacityMB nan\n",
            "SystemVolumeCapacityMB nan\n",
            "HasOpticalDiskDrive 1\n",
            "TotalPhysicalRAMMB nan\n",
            "PrimaryDisplayDiagonalInches nan\n",
            "PrimaryDisplayResolutionHorizontal nan\n",
            "PrimaryDisplayResolutionVertical nan\n",
            "InternalBatteryNumberOfCharges nan\n",
            "OSBuildNumberOnly 381926\n",
            "OSBuildRevisionOnly 777444\n",
            "OSInstallLanguageID nan\n",
            "OSUILocaleID 5021\n",
            "IsPortableOS 1\n",
            "IsFlightsDisabled nan\n",
            "FirmwareManufacturerID nan\n",
            "FirmwareVersionID nan\n",
            "IsSecureBootEnabled 1\n",
            "IsVirtualDevice nan\n",
            "IsTouchEnabled 1\n",
            "IsPenCapable 1\n",
            "IsAlwaysOnAlwaysConnectedCapable nan\n",
            "IsGamer nan\n",
            "RegionIdentifier nan\n",
            "target 1\n"
          ]
        }
      ],
      "execution_count": 11
    },
    {
      "cell_type": "markdown",
      "source": [
        "### Categorical Data"
      ],
      "metadata": {
        "id": "n_Qw77sC25-y"
      }
    },
    {
      "cell_type": "code",
      "source": [
        "# Selecting columns with only object data\n",
        "categorical_df = train_df.select_dtypes(include=['object'])\n",
        "categorical_df.head()"
      ],
      "metadata": {
        "trusted": true,
        "execution": {
          "iopub.status.busy": "2025-03-21T04:57:03.502584Z",
          "iopub.execute_input": "2025-03-21T04:57:03.502937Z",
          "iopub.status.idle": "2025-03-21T04:57:03.53573Z",
          "shell.execute_reply.started": "2025-03-21T04:57:03.502908Z",
          "shell.execute_reply": "2025-03-21T04:57:03.534702Z"
        },
        "colab": {
          "base_uri": "https://localhost:8080/",
          "height": 429
        },
        "id": "HX7o18pE25-z",
        "outputId": "b7a88488-4c08-43a0-ec93-dc0a13fe761a"
      },
      "outputs": [
        {
          "output_type": "execute_result",
          "data": {
            "text/plain": [
              "                          MachineID   ProductName EngineVersion  \\\n",
              "0  f541bae429089117c4aac39c90dd3416  win8defender   1.1.15200.1   \n",
              "1  dc2b14d9ce3a0ce4050bb640190f2ca5  win8defender   1.1.15100.1   \n",
              "2  fd20c5f010e9c5f91ad1c6b3e0da68a0  win8defender   1.1.15200.1   \n",
              "3  38711eae85eb77a72ec5dfdf27eb2a76  win8defender   1.1.15200.1   \n",
              "4  32607c9a543a9214e2c7e45800ed4849  win8defender   1.1.15200.1   \n",
              "\n",
              "         AppVersion SignatureVersion PlatformType Processor OSVersion  \\\n",
              "0   4.18.1807.18075     1.275.1003.0    windows10       x86  10.0.0.0   \n",
              "1   4.18.1807.18075     1.273.1465.0    windows10       x64  10.0.0.0   \n",
              "2   4.18.1807.18075     1.275.1546.0    windows10       x64  10.0.0.0   \n",
              "3  4.12.17007.18011     1.275.1141.0    windows10       x64  10.0.0.0   \n",
              "4    4.13.17134.228     1.275.1283.0    windows10       x86  10.0.0.0   \n",
              "\n",
              "  OsPlatformSubRelease                                   OSBuildLab  ...  \\\n",
              "0                  rs1  14393.2214.x86fre.rs1_release_1.180402-1758  ...   \n",
              "1                  rs4     17134.1.amd64fre.rs4_release.180410-1804  ...   \n",
              "2                  rs4     17134.1.amd64fre.rs4_release.180410-1804  ...   \n",
              "3                  rs2     15063.0.amd64fre.rs2_release.170317-1834  ...   \n",
              "4                  rs4       17134.1.x86fre.rs4_release.180410-1804  ...   \n",
              "\n",
              "      OSBranch     OSEdition OSSkuFriendlyName OSInstallType  \\\n",
              "0  rs1_release          Core              CORE        Update   \n",
              "1  rs4_release  Professional      PROFESSIONAL    UUPUpgrade   \n",
              "2  rs4_release          Core              CORE         Reset   \n",
              "3  rs2_release          Core              CORE       Upgrade   \n",
              "4  rs4_release  Professional      PROFESSIONAL    UUPUpgrade   \n",
              "\n",
              "  AutoUpdateOptionsName OSGenuineState LicenseActivationChannel FlightRing  \\\n",
              "0               UNKNOWN     IS_GENUINE                   Retail     Retail   \n",
              "1              FullAuto     IS_GENUINE                   OEM:DM     Retail   \n",
              "2              FullAuto     IS_GENUINE               OEM:NONSLP     Retail   \n",
              "3               UNKNOWN     IS_GENUINE                   OEM:DM     Retail   \n",
              "4              FullAuto     IS_GENUINE                   Retail     Retail   \n",
              "\n",
              "                DateAS      DateOS  \n",
              "0  2018-09-10 10:11:00  2018-04-17  \n",
              "1  2018-08-16 00:01:00  2018-08-14  \n",
              "2  2018-09-20 23:20:00  2018-09-11  \n",
              "3  2018-09-14 00:32:00  2018-01-03  \n",
              "4  2018-09-15 19:34:00  2018-09-11  \n",
              "\n",
              "[5 rows x 28 columns]"
            ],
            "text/html": [
              "\n",
              "  <div id=\"df-1190bbc0-723a-4b28-b504-2f7bcf9897dc\" class=\"colab-df-container\">\n",
              "    <div>\n",
              "<style scoped>\n",
              "    .dataframe tbody tr th:only-of-type {\n",
              "        vertical-align: middle;\n",
              "    }\n",
              "\n",
              "    .dataframe tbody tr th {\n",
              "        vertical-align: top;\n",
              "    }\n",
              "\n",
              "    .dataframe thead th {\n",
              "        text-align: right;\n",
              "    }\n",
              "</style>\n",
              "<table border=\"1\" class=\"dataframe\">\n",
              "  <thead>\n",
              "    <tr style=\"text-align: right;\">\n",
              "      <th></th>\n",
              "      <th>MachineID</th>\n",
              "      <th>ProductName</th>\n",
              "      <th>EngineVersion</th>\n",
              "      <th>AppVersion</th>\n",
              "      <th>SignatureVersion</th>\n",
              "      <th>PlatformType</th>\n",
              "      <th>Processor</th>\n",
              "      <th>OSVersion</th>\n",
              "      <th>OsPlatformSubRelease</th>\n",
              "      <th>OSBuildLab</th>\n",
              "      <th>...</th>\n",
              "      <th>OSBranch</th>\n",
              "      <th>OSEdition</th>\n",
              "      <th>OSSkuFriendlyName</th>\n",
              "      <th>OSInstallType</th>\n",
              "      <th>AutoUpdateOptionsName</th>\n",
              "      <th>OSGenuineState</th>\n",
              "      <th>LicenseActivationChannel</th>\n",
              "      <th>FlightRing</th>\n",
              "      <th>DateAS</th>\n",
              "      <th>DateOS</th>\n",
              "    </tr>\n",
              "  </thead>\n",
              "  <tbody>\n",
              "    <tr>\n",
              "      <th>0</th>\n",
              "      <td>f541bae429089117c4aac39c90dd3416</td>\n",
              "      <td>win8defender</td>\n",
              "      <td>1.1.15200.1</td>\n",
              "      <td>4.18.1807.18075</td>\n",
              "      <td>1.275.1003.0</td>\n",
              "      <td>windows10</td>\n",
              "      <td>x86</td>\n",
              "      <td>10.0.0.0</td>\n",
              "      <td>rs1</td>\n",
              "      <td>14393.2214.x86fre.rs1_release_1.180402-1758</td>\n",
              "      <td>...</td>\n",
              "      <td>rs1_release</td>\n",
              "      <td>Core</td>\n",
              "      <td>CORE</td>\n",
              "      <td>Update</td>\n",
              "      <td>UNKNOWN</td>\n",
              "      <td>IS_GENUINE</td>\n",
              "      <td>Retail</td>\n",
              "      <td>Retail</td>\n",
              "      <td>2018-09-10 10:11:00</td>\n",
              "      <td>2018-04-17</td>\n",
              "    </tr>\n",
              "    <tr>\n",
              "      <th>1</th>\n",
              "      <td>dc2b14d9ce3a0ce4050bb640190f2ca5</td>\n",
              "      <td>win8defender</td>\n",
              "      <td>1.1.15100.1</td>\n",
              "      <td>4.18.1807.18075</td>\n",
              "      <td>1.273.1465.0</td>\n",
              "      <td>windows10</td>\n",
              "      <td>x64</td>\n",
              "      <td>10.0.0.0</td>\n",
              "      <td>rs4</td>\n",
              "      <td>17134.1.amd64fre.rs4_release.180410-1804</td>\n",
              "      <td>...</td>\n",
              "      <td>rs4_release</td>\n",
              "      <td>Professional</td>\n",
              "      <td>PROFESSIONAL</td>\n",
              "      <td>UUPUpgrade</td>\n",
              "      <td>FullAuto</td>\n",
              "      <td>IS_GENUINE</td>\n",
              "      <td>OEM:DM</td>\n",
              "      <td>Retail</td>\n",
              "      <td>2018-08-16 00:01:00</td>\n",
              "      <td>2018-08-14</td>\n",
              "    </tr>\n",
              "    <tr>\n",
              "      <th>2</th>\n",
              "      <td>fd20c5f010e9c5f91ad1c6b3e0da68a0</td>\n",
              "      <td>win8defender</td>\n",
              "      <td>1.1.15200.1</td>\n",
              "      <td>4.18.1807.18075</td>\n",
              "      <td>1.275.1546.0</td>\n",
              "      <td>windows10</td>\n",
              "      <td>x64</td>\n",
              "      <td>10.0.0.0</td>\n",
              "      <td>rs4</td>\n",
              "      <td>17134.1.amd64fre.rs4_release.180410-1804</td>\n",
              "      <td>...</td>\n",
              "      <td>rs4_release</td>\n",
              "      <td>Core</td>\n",
              "      <td>CORE</td>\n",
              "      <td>Reset</td>\n",
              "      <td>FullAuto</td>\n",
              "      <td>IS_GENUINE</td>\n",
              "      <td>OEM:NONSLP</td>\n",
              "      <td>Retail</td>\n",
              "      <td>2018-09-20 23:20:00</td>\n",
              "      <td>2018-09-11</td>\n",
              "    </tr>\n",
              "    <tr>\n",
              "      <th>3</th>\n",
              "      <td>38711eae85eb77a72ec5dfdf27eb2a76</td>\n",
              "      <td>win8defender</td>\n",
              "      <td>1.1.15200.1</td>\n",
              "      <td>4.12.17007.18011</td>\n",
              "      <td>1.275.1141.0</td>\n",
              "      <td>windows10</td>\n",
              "      <td>x64</td>\n",
              "      <td>10.0.0.0</td>\n",
              "      <td>rs2</td>\n",
              "      <td>15063.0.amd64fre.rs2_release.170317-1834</td>\n",
              "      <td>...</td>\n",
              "      <td>rs2_release</td>\n",
              "      <td>Core</td>\n",
              "      <td>CORE</td>\n",
              "      <td>Upgrade</td>\n",
              "      <td>UNKNOWN</td>\n",
              "      <td>IS_GENUINE</td>\n",
              "      <td>OEM:DM</td>\n",
              "      <td>Retail</td>\n",
              "      <td>2018-09-14 00:32:00</td>\n",
              "      <td>2018-01-03</td>\n",
              "    </tr>\n",
              "    <tr>\n",
              "      <th>4</th>\n",
              "      <td>32607c9a543a9214e2c7e45800ed4849</td>\n",
              "      <td>win8defender</td>\n",
              "      <td>1.1.15200.1</td>\n",
              "      <td>4.13.17134.228</td>\n",
              "      <td>1.275.1283.0</td>\n",
              "      <td>windows10</td>\n",
              "      <td>x86</td>\n",
              "      <td>10.0.0.0</td>\n",
              "      <td>rs4</td>\n",
              "      <td>17134.1.x86fre.rs4_release.180410-1804</td>\n",
              "      <td>...</td>\n",
              "      <td>rs4_release</td>\n",
              "      <td>Professional</td>\n",
              "      <td>PROFESSIONAL</td>\n",
              "      <td>UUPUpgrade</td>\n",
              "      <td>FullAuto</td>\n",
              "      <td>IS_GENUINE</td>\n",
              "      <td>Retail</td>\n",
              "      <td>Retail</td>\n",
              "      <td>2018-09-15 19:34:00</td>\n",
              "      <td>2018-09-11</td>\n",
              "    </tr>\n",
              "  </tbody>\n",
              "</table>\n",
              "<p>5 rows × 28 columns</p>\n",
              "</div>\n",
              "    <div class=\"colab-df-buttons\">\n",
              "\n",
              "  <div class=\"colab-df-container\">\n",
              "    <button class=\"colab-df-convert\" onclick=\"convertToInteractive('df-1190bbc0-723a-4b28-b504-2f7bcf9897dc')\"\n",
              "            title=\"Convert this dataframe to an interactive table.\"\n",
              "            style=\"display:none;\">\n",
              "\n",
              "  <svg xmlns=\"http://www.w3.org/2000/svg\" height=\"24px\" viewBox=\"0 -960 960 960\">\n",
              "    <path d=\"M120-120v-720h720v720H120Zm60-500h600v-160H180v160Zm220 220h160v-160H400v160Zm0 220h160v-160H400v160ZM180-400h160v-160H180v160Zm440 0h160v-160H620v160ZM180-180h160v-160H180v160Zm440 0h160v-160H620v160Z\"/>\n",
              "  </svg>\n",
              "    </button>\n",
              "\n",
              "  <style>\n",
              "    .colab-df-container {\n",
              "      display:flex;\n",
              "      gap: 12px;\n",
              "    }\n",
              "\n",
              "    .colab-df-convert {\n",
              "      background-color: #E8F0FE;\n",
              "      border: none;\n",
              "      border-radius: 50%;\n",
              "      cursor: pointer;\n",
              "      display: none;\n",
              "      fill: #1967D2;\n",
              "      height: 32px;\n",
              "      padding: 0 0 0 0;\n",
              "      width: 32px;\n",
              "    }\n",
              "\n",
              "    .colab-df-convert:hover {\n",
              "      background-color: #E2EBFA;\n",
              "      box-shadow: 0px 1px 2px rgba(60, 64, 67, 0.3), 0px 1px 3px 1px rgba(60, 64, 67, 0.15);\n",
              "      fill: #174EA6;\n",
              "    }\n",
              "\n",
              "    .colab-df-buttons div {\n",
              "      margin-bottom: 4px;\n",
              "    }\n",
              "\n",
              "    [theme=dark] .colab-df-convert {\n",
              "      background-color: #3B4455;\n",
              "      fill: #D2E3FC;\n",
              "    }\n",
              "\n",
              "    [theme=dark] .colab-df-convert:hover {\n",
              "      background-color: #434B5C;\n",
              "      box-shadow: 0px 1px 3px 1px rgba(0, 0, 0, 0.15);\n",
              "      filter: drop-shadow(0px 1px 2px rgba(0, 0, 0, 0.3));\n",
              "      fill: #FFFFFF;\n",
              "    }\n",
              "  </style>\n",
              "\n",
              "    <script>\n",
              "      const buttonEl =\n",
              "        document.querySelector('#df-1190bbc0-723a-4b28-b504-2f7bcf9897dc button.colab-df-convert');\n",
              "      buttonEl.style.display =\n",
              "        google.colab.kernel.accessAllowed ? 'block' : 'none';\n",
              "\n",
              "      async function convertToInteractive(key) {\n",
              "        const element = document.querySelector('#df-1190bbc0-723a-4b28-b504-2f7bcf9897dc');\n",
              "        const dataTable =\n",
              "          await google.colab.kernel.invokeFunction('convertToInteractive',\n",
              "                                                    [key], {});\n",
              "        if (!dataTable) return;\n",
              "\n",
              "        const docLinkHtml = 'Like what you see? Visit the ' +\n",
              "          '<a target=\"_blank\" href=https://colab.research.google.com/notebooks/data_table.ipynb>data table notebook</a>'\n",
              "          + ' to learn more about interactive tables.';\n",
              "        element.innerHTML = '';\n",
              "        dataTable['output_type'] = 'display_data';\n",
              "        await google.colab.output.renderOutput(dataTable, element);\n",
              "        const docLink = document.createElement('div');\n",
              "        docLink.innerHTML = docLinkHtml;\n",
              "        element.appendChild(docLink);\n",
              "      }\n",
              "    </script>\n",
              "  </div>\n",
              "\n",
              "\n",
              "    <div id=\"df-93fcb9f1-a118-4d88-aa1b-224156fa1272\">\n",
              "      <button class=\"colab-df-quickchart\" onclick=\"quickchart('df-93fcb9f1-a118-4d88-aa1b-224156fa1272')\"\n",
              "                title=\"Suggest charts\"\n",
              "                style=\"display:none;\">\n",
              "\n",
              "<svg xmlns=\"http://www.w3.org/2000/svg\" height=\"24px\"viewBox=\"0 0 24 24\"\n",
              "     width=\"24px\">\n",
              "    <g>\n",
              "        <path d=\"M19 3H5c-1.1 0-2 .9-2 2v14c0 1.1.9 2 2 2h14c1.1 0 2-.9 2-2V5c0-1.1-.9-2-2-2zM9 17H7v-7h2v7zm4 0h-2V7h2v10zm4 0h-2v-4h2v4z\"/>\n",
              "    </g>\n",
              "</svg>\n",
              "      </button>\n",
              "\n",
              "<style>\n",
              "  .colab-df-quickchart {\n",
              "      --bg-color: #E8F0FE;\n",
              "      --fill-color: #1967D2;\n",
              "      --hover-bg-color: #E2EBFA;\n",
              "      --hover-fill-color: #174EA6;\n",
              "      --disabled-fill-color: #AAA;\n",
              "      --disabled-bg-color: #DDD;\n",
              "  }\n",
              "\n",
              "  [theme=dark] .colab-df-quickchart {\n",
              "      --bg-color: #3B4455;\n",
              "      --fill-color: #D2E3FC;\n",
              "      --hover-bg-color: #434B5C;\n",
              "      --hover-fill-color: #FFFFFF;\n",
              "      --disabled-bg-color: #3B4455;\n",
              "      --disabled-fill-color: #666;\n",
              "  }\n",
              "\n",
              "  .colab-df-quickchart {\n",
              "    background-color: var(--bg-color);\n",
              "    border: none;\n",
              "    border-radius: 50%;\n",
              "    cursor: pointer;\n",
              "    display: none;\n",
              "    fill: var(--fill-color);\n",
              "    height: 32px;\n",
              "    padding: 0;\n",
              "    width: 32px;\n",
              "  }\n",
              "\n",
              "  .colab-df-quickchart:hover {\n",
              "    background-color: var(--hover-bg-color);\n",
              "    box-shadow: 0 1px 2px rgba(60, 64, 67, 0.3), 0 1px 3px 1px rgba(60, 64, 67, 0.15);\n",
              "    fill: var(--button-hover-fill-color);\n",
              "  }\n",
              "\n",
              "  .colab-df-quickchart-complete:disabled,\n",
              "  .colab-df-quickchart-complete:disabled:hover {\n",
              "    background-color: var(--disabled-bg-color);\n",
              "    fill: var(--disabled-fill-color);\n",
              "    box-shadow: none;\n",
              "  }\n",
              "\n",
              "  .colab-df-spinner {\n",
              "    border: 2px solid var(--fill-color);\n",
              "    border-color: transparent;\n",
              "    border-bottom-color: var(--fill-color);\n",
              "    animation:\n",
              "      spin 1s steps(1) infinite;\n",
              "  }\n",
              "\n",
              "  @keyframes spin {\n",
              "    0% {\n",
              "      border-color: transparent;\n",
              "      border-bottom-color: var(--fill-color);\n",
              "      border-left-color: var(--fill-color);\n",
              "    }\n",
              "    20% {\n",
              "      border-color: transparent;\n",
              "      border-left-color: var(--fill-color);\n",
              "      border-top-color: var(--fill-color);\n",
              "    }\n",
              "    30% {\n",
              "      border-color: transparent;\n",
              "      border-left-color: var(--fill-color);\n",
              "      border-top-color: var(--fill-color);\n",
              "      border-right-color: var(--fill-color);\n",
              "    }\n",
              "    40% {\n",
              "      border-color: transparent;\n",
              "      border-right-color: var(--fill-color);\n",
              "      border-top-color: var(--fill-color);\n",
              "    }\n",
              "    60% {\n",
              "      border-color: transparent;\n",
              "      border-right-color: var(--fill-color);\n",
              "    }\n",
              "    80% {\n",
              "      border-color: transparent;\n",
              "      border-right-color: var(--fill-color);\n",
              "      border-bottom-color: var(--fill-color);\n",
              "    }\n",
              "    90% {\n",
              "      border-color: transparent;\n",
              "      border-bottom-color: var(--fill-color);\n",
              "    }\n",
              "  }\n",
              "</style>\n",
              "\n",
              "      <script>\n",
              "        async function quickchart(key) {\n",
              "          const quickchartButtonEl =\n",
              "            document.querySelector('#' + key + ' button');\n",
              "          quickchartButtonEl.disabled = true;  // To prevent multiple clicks.\n",
              "          quickchartButtonEl.classList.add('colab-df-spinner');\n",
              "          try {\n",
              "            const charts = await google.colab.kernel.invokeFunction(\n",
              "                'suggestCharts', [key], {});\n",
              "          } catch (error) {\n",
              "            console.error('Error during call to suggestCharts:', error);\n",
              "          }\n",
              "          quickchartButtonEl.classList.remove('colab-df-spinner');\n",
              "          quickchartButtonEl.classList.add('colab-df-quickchart-complete');\n",
              "        }\n",
              "        (() => {\n",
              "          let quickchartButtonEl =\n",
              "            document.querySelector('#df-93fcb9f1-a118-4d88-aa1b-224156fa1272 button');\n",
              "          quickchartButtonEl.style.display =\n",
              "            google.colab.kernel.accessAllowed ? 'block' : 'none';\n",
              "        })();\n",
              "      </script>\n",
              "    </div>\n",
              "\n",
              "    </div>\n",
              "  </div>\n"
            ],
            "application/vnd.google.colaboratory.intrinsic+json": {
              "type": "dataframe",
              "variable_name": "categorical_df"
            }
          },
          "metadata": {},
          "execution_count": 12
        }
      ],
      "execution_count": 12
    },
    {
      "cell_type": "markdown",
      "source": [
        "# Preprocessing"
      ],
      "metadata": {
        "id": "nn55q6WV25-1"
      }
    },
    {
      "cell_type": "code",
      "source": [
        "from sklearn.model_selection import train_test_split\n",
        "# Separate features (X) and target variable (y)\n",
        "X = train_df.drop('target', axis=1)\n",
        "y = train_df['target']\n",
        "\n",
        "X_train, X_test, y_train, y_test = train_test_split(X, y, test_size=0.2, random_state=42)\n",
        "\n",
        "# Printing dataset shapes to verify split sizes\n",
        "print(train_df.shape)\n",
        "print(X_train.shape, y_train.shape)\n",
        "print(X_test.shape, y_test.shape)"
      ],
      "metadata": {
        "trusted": true,
        "execution": {
          "iopub.status.busy": "2025-03-21T04:57:03.536823Z",
          "iopub.execute_input": "2025-03-21T04:57:03.537212Z",
          "iopub.status.idle": "2025-03-21T04:57:03.692943Z",
          "shell.execute_reply.started": "2025-03-21T04:57:03.537174Z",
          "shell.execute_reply": "2025-03-21T04:57:03.69161Z"
        },
        "colab": {
          "base_uri": "https://localhost:8080/"
        },
        "id": "VVjGDenn25-2",
        "outputId": "cc7a7bfc-35e6-4f12-fecd-e56f94d204ff"
      },
      "outputs": [
        {
          "output_type": "stream",
          "name": "stdout",
          "text": [
            "(100000, 76)\n",
            "(80000, 75) (80000,)\n",
            "(20000, 75) (20000,)\n"
          ]
        }
      ],
      "execution_count": 13
    },
    {
      "cell_type": "code",
      "source": [
        "num_cols = X_train.select_dtypes(include=['int64','float64']).columns\n",
        "num_cols"
      ],
      "metadata": {
        "trusted": true,
        "execution": {
          "iopub.status.busy": "2025-03-21T04:57:03.694336Z",
          "iopub.execute_input": "2025-03-21T04:57:03.694744Z",
          "iopub.status.idle": "2025-03-21T04:57:03.71877Z",
          "shell.execute_reply.started": "2025-03-21T04:57:03.694706Z",
          "shell.execute_reply": "2025-03-21T04:57:03.717463Z"
        },
        "colab": {
          "base_uri": "https://localhost:8080/"
        },
        "id": "-GLajIjb25-3",
        "outputId": "9dda314f-97b5-4424-8fc6-74317bb9b8c1"
      },
      "outputs": [
        {
          "output_type": "execute_result",
          "data": {
            "text/plain": [
              "Index(['IsBetaUser', 'RealTimeProtectionState', 'IsPassiveModeEnabled',\n",
              "       'AntivirusConfigID', 'NumAntivirusProductsInstalled',\n",
              "       'NumAntivirusProductsEnabled', 'HasTpm', 'CountryID', 'CityID',\n",
              "       'GeoRegionID', 'LocaleEnglishNameID', 'OSBuildNumber', 'OSProductSuite',\n",
              "       'IsSystemProtected', 'AutoSampleSubmissionEnabled', 'SMode',\n",
              "       'IEVersionID', 'FirewallEnabled', 'EnableLUA', 'OEMNameID',\n",
              "       'OEMModelID', 'ProcessorCoreCount', 'ProcessorManufacturerID',\n",
              "       'ProcessorModelID', 'PrimaryDiskCapacityMB', 'SystemVolumeCapacityMB',\n",
              "       'HasOpticalDiskDrive', 'TotalPhysicalRAMMB',\n",
              "       'PrimaryDisplayDiagonalInches', 'PrimaryDisplayResolutionHorizontal',\n",
              "       'PrimaryDisplayResolutionVertical', 'InternalBatteryNumberOfCharges',\n",
              "       'OSBuildNumberOnly', 'OSBuildRevisionOnly', 'OSInstallLanguageID',\n",
              "       'OSUILocaleID', 'IsPortableOS', 'IsFlightsDisabled',\n",
              "       'FirmwareManufacturerID', 'FirmwareVersionID', 'IsSecureBootEnabled',\n",
              "       'IsVirtualDevice', 'IsTouchEnabled', 'IsPenCapable',\n",
              "       'IsAlwaysOnAlwaysConnectedCapable', 'IsGamer', 'RegionIdentifier'],\n",
              "      dtype='object')"
            ]
          },
          "metadata": {},
          "execution_count": 14
        }
      ],
      "execution_count": 14
    },
    {
      "cell_type": "code",
      "source": [
        "cat_cols = X_train.select_dtypes(include=\"object\").columns\n",
        "cat_cols"
      ],
      "metadata": {
        "trusted": true,
        "execution": {
          "iopub.status.busy": "2025-03-21T04:57:03.720069Z",
          "iopub.execute_input": "2025-03-21T04:57:03.720494Z",
          "iopub.status.idle": "2025-03-21T04:57:03.749977Z",
          "shell.execute_reply.started": "2025-03-21T04:57:03.720455Z",
          "shell.execute_reply": "2025-03-21T04:57:03.748868Z"
        },
        "colab": {
          "base_uri": "https://localhost:8080/"
        },
        "id": "3DbJDA9L25-5",
        "outputId": "094fe423-7c15-417b-906e-8f2443980908"
      },
      "outputs": [
        {
          "output_type": "execute_result",
          "data": {
            "text/plain": [
              "Index(['MachineID', 'ProductName', 'EngineVersion', 'AppVersion',\n",
              "       'SignatureVersion', 'PlatformType', 'Processor', 'OSVersion',\n",
              "       'OsPlatformSubRelease', 'OSBuildLab', 'SKUEditionName',\n",
              "       'MDC2FormFactor', 'DeviceFamily', 'PrimaryDiskType', 'ChassisType',\n",
              "       'PowerPlatformRole', 'NumericOSVersion', 'OSArchitecture', 'OSBranch',\n",
              "       'OSEdition', 'OSSkuFriendlyName', 'OSInstallType',\n",
              "       'AutoUpdateOptionsName', 'OSGenuineState', 'LicenseActivationChannel',\n",
              "       'FlightRing', 'DateAS', 'DateOS'],\n",
              "      dtype='object')"
            ]
          },
          "metadata": {},
          "execution_count": 15
        }
      ],
      "execution_count": 15
    },
    {
      "cell_type": "code",
      "source": [
        "# Threshold for low-cardinality categorical features\n",
        "threshold = 5\n",
        "\n",
        "# Select categorical columns that have unique values less than or equal to the threshold\n",
        "oh_cols = [col for col in cat_cols if len(X_train[col].unique()) <= threshold]\n",
        "oh_cols\n"
      ],
      "metadata": {
        "trusted": true,
        "execution": {
          "iopub.status.busy": "2025-03-21T04:57:03.751116Z",
          "iopub.execute_input": "2025-03-21T04:57:03.751518Z",
          "iopub.status.idle": "2025-03-21T04:57:03.928058Z",
          "shell.execute_reply.started": "2025-03-21T04:57:03.751479Z",
          "shell.execute_reply": "2025-03-21T04:57:03.926972Z"
        },
        "colab": {
          "base_uri": "https://localhost:8080/"
        },
        "id": "yjqPLL2q25-7",
        "outputId": "59913dba-6c13-4a8b-cee1-43c480c2f4ac"
      },
      "outputs": [
        {
          "output_type": "execute_result",
          "data": {
            "text/plain": [
              "['ProductName',\n",
              " 'PlatformType',\n",
              " 'Processor',\n",
              " 'DeviceFamily',\n",
              " 'PrimaryDiskType',\n",
              " 'OSArchitecture',\n",
              " 'OSGenuineState']"
            ]
          },
          "metadata": {},
          "execution_count": 16
        }
      ],
      "execution_count": 16
    },
    {
      "cell_type": "code",
      "source": [
        "# Select categorical columns that are not in oh_cols (likely ordinal)\n",
        "ord_cols = [i for i in cat_cols if i not in oh_cols]\n",
        "ord_cols"
      ],
      "metadata": {
        "trusted": true,
        "execution": {
          "iopub.status.busy": "2025-03-21T04:57:03.929105Z",
          "iopub.execute_input": "2025-03-21T04:57:03.929502Z",
          "iopub.status.idle": "2025-03-21T04:57:03.935836Z",
          "shell.execute_reply.started": "2025-03-21T04:57:03.929463Z",
          "shell.execute_reply": "2025-03-21T04:57:03.934704Z"
        },
        "colab": {
          "base_uri": "https://localhost:8080/"
        },
        "id": "mzqjgtw125--",
        "outputId": "a18e60a6-a759-44b2-b0ae-aef5dc2b85a3"
      },
      "outputs": [
        {
          "output_type": "execute_result",
          "data": {
            "text/plain": [
              "['MachineID',\n",
              " 'EngineVersion',\n",
              " 'AppVersion',\n",
              " 'SignatureVersion',\n",
              " 'OSVersion',\n",
              " 'OsPlatformSubRelease',\n",
              " 'OSBuildLab',\n",
              " 'SKUEditionName',\n",
              " 'MDC2FormFactor',\n",
              " 'ChassisType',\n",
              " 'PowerPlatformRole',\n",
              " 'NumericOSVersion',\n",
              " 'OSBranch',\n",
              " 'OSEdition',\n",
              " 'OSSkuFriendlyName',\n",
              " 'OSInstallType',\n",
              " 'AutoUpdateOptionsName',\n",
              " 'LicenseActivationChannel',\n",
              " 'FlightRing',\n",
              " 'DateAS',\n",
              " 'DateOS']"
            ]
          },
          "metadata": {},
          "execution_count": 17
        }
      ],
      "execution_count": 17
    },
    {
      "cell_type": "code",
      "source": [
        "# Remove date columns from ordinal columns list\n",
        "date_cols= ['DateAS','DateOS']\n",
        "ord_cols= [x for x in ord_cols if x not in date_cols]\n",
        "ord_cols\n"
      ],
      "metadata": {
        "trusted": true,
        "execution": {
          "iopub.status.busy": "2025-03-21T04:57:03.93712Z",
          "iopub.execute_input": "2025-03-21T04:57:03.937562Z",
          "iopub.status.idle": "2025-03-21T04:57:03.963985Z",
          "shell.execute_reply.started": "2025-03-21T04:57:03.937523Z",
          "shell.execute_reply": "2025-03-21T04:57:03.960589Z"
        },
        "colab": {
          "base_uri": "https://localhost:8080/"
        },
        "id": "IgwFtZNt25_A",
        "outputId": "e6053877-6bc5-4b48-f620-040919d005fe"
      },
      "outputs": [
        {
          "output_type": "execute_result",
          "data": {
            "text/plain": [
              "['MachineID',\n",
              " 'EngineVersion',\n",
              " 'AppVersion',\n",
              " 'SignatureVersion',\n",
              " 'OSVersion',\n",
              " 'OsPlatformSubRelease',\n",
              " 'OSBuildLab',\n",
              " 'SKUEditionName',\n",
              " 'MDC2FormFactor',\n",
              " 'ChassisType',\n",
              " 'PowerPlatformRole',\n",
              " 'NumericOSVersion',\n",
              " 'OSBranch',\n",
              " 'OSEdition',\n",
              " 'OSSkuFriendlyName',\n",
              " 'OSInstallType',\n",
              " 'AutoUpdateOptionsName',\n",
              " 'LicenseActivationChannel',\n",
              " 'FlightRing']"
            ]
          },
          "metadata": {},
          "execution_count": 18
        }
      ],
      "execution_count": 18
    },
    {
      "cell_type": "code",
      "source": [
        "from sklearn.base import BaseEstimator, TransformerMixin\n",
        "\n",
        "class DateTimeFeaturesTransformer(BaseEstimator, TransformerMixin):\n",
        "  \"\"\"\n",
        "  Custom transformer for extracting integer features (year, month, day, hour, minute, second)\n",
        "  from datetime strings in the format 'DD-MM-YYYY HH:MM:SS'. Handles both DataFrame and Series inputs.\n",
        "  \"\"\"\n",
        "\n",
        "  def __init__(self, date_format='%Y-%m-%d %H:%M:%S'):\n",
        "    \"\"\"\n",
        "    Args:\n",
        "      date_format: The format string used to parse the datetime strings. Defaults to '%d-%m-%Y %H:%M:%S'.\n",
        "    \"\"\"\n",
        "    self.date_format = date_format\n",
        "\n",
        "  def fit(self, X, y=None):\n",
        "    \"\"\"\n",
        "    This method is required for scikit-learn pipelines but does nothing in this case.\n",
        "    \"\"\"\n",
        "    return self\n",
        "\n",
        "  def transform(self, X):\n",
        "    \"\"\"\n",
        "    Transforms the input data by extracting integer features from datetime strings.\n",
        "\n",
        "    Args:\n",
        "      X: The input data, can be a pandas DataFrame or Series.\n",
        "\n",
        "    Returns:\n",
        "      A NumPy array containing the extracted integer features (year, month, day, hour, minute, second).\n",
        "    \"\"\"\n",
        "\n",
        "    # Convert to pandas Series if DataFrame is passed\n",
        "    if isinstance(X, pd.DataFrame):\n",
        "      X = X.iloc[:, 0]\n",
        "\n",
        "    # Convert to datetime\n",
        "    datetimes = pd.to_datetime(X, format=self.date_format)\n",
        "\n",
        "    # Extract features\n",
        "    year = datetimes.dt.year.astype(int)\n",
        "    month = datetimes.dt.month.astype(int)\n",
        "    day = datetimes.dt.day.astype(int)\n",
        "    hour = datetimes.dt.hour.astype(int)\n",
        "    minute = datetimes.dt.minute.astype(int)\n",
        "    second = datetimes.dt.second.astype(int)\n",
        "\n",
        "    # Combine features into a NumPy array\n",
        "    features = np.column_stack([year, month, day, hour, minute, second])\n",
        "\n",
        "    return features"
      ],
      "metadata": {
        "trusted": true,
        "execution": {
          "iopub.status.busy": "2025-03-21T04:57:03.965408Z",
          "iopub.execute_input": "2025-03-21T04:57:03.965939Z",
          "iopub.status.idle": "2025-03-21T04:57:03.989896Z",
          "shell.execute_reply.started": "2025-03-21T04:57:03.9659Z",
          "shell.execute_reply": "2025-03-21T04:57:03.988759Z"
        },
        "id": "qvNn5Krh25_B"
      },
      "outputs": [],
      "execution_count": 19
    },
    {
      "cell_type": "markdown",
      "source": [
        "### Pipeline"
      ],
      "metadata": {
        "id": "yuigjhoF25_E"
      }
    },
    {
      "cell_type": "code",
      "source": [
        "from sklearn.compose import ColumnTransformer\n",
        "from sklearn.pipeline import Pipeline\n",
        "\n",
        "from sklearn.impute import SimpleImputer\n",
        "from sklearn.preprocessing import StandardScaler, RobustScaler, MinMaxScaler\n",
        "from sklearn.preprocessing import OneHotEncoder, OrdinalEncoder\n",
        "\n",
        "# Define preprocessing pipeline\n",
        "preprocessing_pipe = ColumnTransformer(\n",
        "    transformers=[\n",
        "\n",
        "        # Pipeline for ordinal categorical features\n",
        "        ('ord_pipeline', Pipeline([\n",
        "            ('impute_most_frequent', SimpleImputer(strategy='most_frequent')),\n",
        "            ('ordinal', OrdinalEncoder(handle_unknown='use_encoded_value', unknown_value=-1))\n",
        "        ]), ord_cols),\n",
        "\n",
        "        # Pipeline for nominal categorical features (one-hot encoding)\n",
        "        ('oh_pipeline', Pipeline([\n",
        "            ('impute_most_frequent', SimpleImputer(strategy='most_frequent')),\n",
        "            ('onehot', OneHotEncoder(sparse_output=False, handle_unknown='ignore'))  # Fixed sparse_output issue\n",
        "        ]), oh_cols),\n",
        "\n",
        "        # Pipeline for numerical features (scaling)\n",
        "        ('num_pipeline', Pipeline([\n",
        "            ('impute_most_frequent', SimpleImputer(strategy='most_frequent')),\n",
        "            ('scaler', StandardScaler())  # Can switch to RobustScaler() if outliers exist\n",
        "        ]), num_cols),\n",
        "\n",
        "        # Pipeline for datetime features (custom transformer)\n",
        "        ('date_transformer', DateTimeFeaturesTransformer(), date_cols)\n",
        "    ]\n",
        ")\n"
      ],
      "metadata": {
        "trusted": true,
        "execution": {
          "iopub.status.busy": "2025-03-21T04:57:03.99112Z",
          "iopub.execute_input": "2025-03-21T04:57:03.991597Z",
          "iopub.status.idle": "2025-03-21T04:57:04.01292Z",
          "shell.execute_reply.started": "2025-03-21T04:57:03.99155Z",
          "shell.execute_reply": "2025-03-21T04:57:04.011754Z"
        },
        "id": "iju5sdDL25_G"
      },
      "outputs": [],
      "execution_count": 21
    },
    {
      "cell_type": "code",
      "source": [
        "X_train_pre = preprocessing_pipe.fit_transform(X_train)\n",
        "len(X_train_pre[1])"
      ],
      "metadata": {
        "trusted": true,
        "execution": {
          "iopub.status.busy": "2025-03-21T04:57:04.013963Z",
          "iopub.execute_input": "2025-03-21T04:57:04.014365Z",
          "iopub.status.idle": "2025-03-21T04:57:05.930395Z",
          "shell.execute_reply.started": "2025-03-21T04:57:04.014328Z",
          "shell.execute_reply": "2025-03-21T04:57:05.929186Z"
        },
        "colab": {
          "base_uri": "https://localhost:8080/"
        },
        "id": "Zv00FYcV25_R",
        "outputId": "99664aa6-4fc4-48f0-ff19-35f00e994e2d"
      },
      "outputs": [
        {
          "output_type": "execute_result",
          "data": {
            "text/plain": [
              "94"
            ]
          },
          "metadata": {},
          "execution_count": 22
        }
      ],
      "execution_count": 22
    },
    {
      "cell_type": "markdown",
      "source": [
        "# Modelling"
      ],
      "metadata": {
        "id": "3qcqsqbE25_S"
      }
    },
    {
      "cell_type": "code",
      "source": [
        "# Importing required libraries\n",
        "from sklearn.dummy import DummyClassifier\n",
        "from sklearn.model_selection import GridSearchCV\n",
        "from sklearn.linear_model import LogisticRegression, LogisticRegressionCV\n",
        "from sklearn.neighbors import KNeighborsClassifier\n",
        "from sklearn.ensemble import RandomForestClassifier, HistGradientBoostingClassifier"
      ],
      "metadata": {
        "trusted": true,
        "execution": {
          "iopub.status.busy": "2025-03-21T04:57:05.931564Z",
          "iopub.execute_input": "2025-03-21T04:57:05.931966Z",
          "iopub.status.idle": "2025-03-21T04:57:05.937245Z",
          "shell.execute_reply.started": "2025-03-21T04:57:05.931925Z",
          "shell.execute_reply": "2025-03-21T04:57:05.936018Z"
        },
        "id": "zmLufslZ25_U"
      },
      "outputs": [],
      "execution_count": 23
    },
    {
      "cell_type": "markdown",
      "source": [
        "## Model 0: Dummy Classifier"
      ],
      "metadata": {
        "id": "d4mG7PSC25_V"
      }
    },
    {
      "cell_type": "code",
      "source": [
        "model = DummyClassifier().fit(X,y)\n",
        "y_pred = model.predict(X)"
      ],
      "metadata": {
        "trusted": true,
        "execution": {
          "iopub.status.busy": "2025-03-21T04:57:05.938193Z",
          "iopub.execute_input": "2025-03-21T04:57:05.93859Z",
          "iopub.status.idle": "2025-03-21T04:57:05.96577Z",
          "shell.execute_reply.started": "2025-03-21T04:57:05.938535Z",
          "shell.execute_reply": "2025-03-21T04:57:05.964581Z"
        },
        "id": "SWfVpWX-25_W"
      },
      "outputs": [],
      "execution_count": 24
    },
    {
      "cell_type": "code",
      "source": [
        "from sklearn.metrics import accuracy_score\n",
        "\n",
        "accuracy_score(y,y_pred)"
      ],
      "metadata": {
        "trusted": true,
        "execution": {
          "iopub.status.busy": "2025-03-21T04:57:05.966696Z",
          "iopub.execute_input": "2025-03-21T04:57:05.967062Z",
          "iopub.status.idle": "2025-03-21T04:57:05.985527Z",
          "shell.execute_reply.started": "2025-03-21T04:57:05.967023Z",
          "shell.execute_reply": "2025-03-21T04:57:05.984613Z"
        },
        "colab": {
          "base_uri": "https://localhost:8080/"
        },
        "id": "CpxRcSNv25_X",
        "outputId": "7cca6a33-7ff2-4241-9cb9-af5dbe1bf221"
      },
      "outputs": [
        {
          "output_type": "execute_result",
          "data": {
            "text/plain": [
              "0.50525"
            ]
          },
          "metadata": {},
          "execution_count": 25
        }
      ],
      "execution_count": 25
    },
    {
      "cell_type": "markdown",
      "source": [
        "## Model 1: Logistic Regression"
      ],
      "metadata": {
        "id": "UGYRatpY25_Y"
      }
    },
    {
      "cell_type": "code",
      "source": [
        "model_pipe_lr = Pipeline([\n",
        "   ('preprocess', preprocessing_pipe),\n",
        "   ('lr_model', LogisticRegression(random_state=42, solver='liblinear', max_iter=2000))\n",
        "])"
      ],
      "metadata": {
        "trusted": true,
        "execution": {
          "iopub.status.busy": "2025-03-21T04:57:05.990661Z",
          "iopub.execute_input": "2025-03-21T04:57:05.99098Z",
          "iopub.status.idle": "2025-03-21T04:57:05.994887Z",
          "shell.execute_reply.started": "2025-03-21T04:57:05.990955Z",
          "shell.execute_reply": "2025-03-21T04:57:05.993809Z"
        },
        "id": "snvMkgDv25_a"
      },
      "outputs": [],
      "execution_count": 33
    },
    {
      "cell_type": "code",
      "source": [
        "lr_model = model_pipe_lr.fit(X_train, y_train)\n",
        "lr_y_pred = lr_model.predict(X_test)"
      ],
      "metadata": {
        "trusted": true,
        "execution": {
          "iopub.status.busy": "2025-03-21T05:03:31.301594Z",
          "iopub.execute_input": "2025-03-21T05:03:31.301965Z",
          "iopub.status.idle": "2025-03-21T05:03:33.191904Z",
          "shell.execute_reply.started": "2025-03-21T05:03:31.301937Z",
          "shell.execute_reply": "2025-03-21T05:03:33.190535Z"
        },
        "id": "9wuSeEVd25_b"
      },
      "outputs": [],
      "execution_count": 35
    },
    {
      "cell_type": "code",
      "source": [
        "accuracy_score(y_test,lr_y_pred)\n"
      ],
      "metadata": {
        "trusted": true,
        "execution": {
          "iopub.status.busy": "2025-03-21T04:57:06.057222Z",
          "iopub.status.idle": "2025-03-21T04:57:06.057594Z",
          "shell.execute_reply": "2025-03-21T04:57:06.057466Z"
        },
        "colab": {
          "base_uri": "https://localhost:8080/"
        },
        "id": "V1IUw-rI25_c",
        "outputId": "a8acddc8-dce8-4e54-cf27-ec43fe979fdc"
      },
      "outputs": [
        {
          "output_type": "execute_result",
          "data": {
            "text/plain": [
              "0.59475"
            ]
          },
          "metadata": {},
          "execution_count": 36
        }
      ],
      "execution_count": 36
    },
    {
      "cell_type": "markdown",
      "source": [
        "#### Hyperparameter Tuning"
      ],
      "metadata": {
        "id": "B96w0QW025_e"
      }
    },
    {
      "cell_type": "code",
      "source": [
        "model_pipe_logistic = Pipeline([\n",
        "   ('preprocess', preprocessing_pipe),\n",
        "   ('logistic_model', LogisticRegressionCV(\n",
        "       Cs=[0.01, 0.1, 1, 10, 100],\n",
        "       cv=5,\n",
        "       penalty='l2',\n",
        "       scoring='f1_macro',\n",
        "       max_iter=2000,\n",
        "       random_state=42\n",
        "   ))\n",
        "])"
      ],
      "metadata": {
        "trusted": true,
        "execution": {
          "iopub.status.busy": "2025-03-21T04:57:06.059644Z",
          "iopub.status.idle": "2025-03-21T04:57:06.059992Z",
          "shell.execute_reply": "2025-03-21T04:57:06.059862Z"
        },
        "id": "p55ob2db25_e"
      },
      "outputs": [],
      "execution_count": 37
    },
    {
      "cell_type": "code",
      "source": [
        "lr_cv_model = model_pipe_logistic.fit(X_train, y_train)\n",
        "lr_cv_y_pred = lr_cv_model.predict(X_test)"
      ],
      "metadata": {
        "trusted": true,
        "execution": {
          "iopub.status.busy": "2025-03-21T04:57:06.061238Z",
          "iopub.status.idle": "2025-03-21T04:57:06.061639Z",
          "shell.execute_reply": "2025-03-21T04:57:06.061509Z"
        },
        "colab": {
          "base_uri": "https://localhost:8080/",
          "height": 460
        },
        "id": "0UpNMEwo25_r",
        "outputId": "29aeaa1d-d4ec-4fcd-a22c-fe4b943b5051"
      },
      "outputs": [
        {
          "metadata": {
            "tags": null
          },
          "name": "stderr",
          "output_type": "stream",
          "text": [
            "/usr/local/lib/python3.11/dist-packages/sklearn/linear_model/_logistic.py:465: ConvergenceWarning: lbfgs failed to converge (status=1):\n",
            "STOP: TOTAL NO. OF ITERATIONS REACHED LIMIT.\n",
            "\n",
            "Increase the number of iterations (max_iter) or scale the data as shown in:\n",
            "    https://scikit-learn.org/stable/modules/preprocessing.html\n",
            "Please also refer to the documentation for alternative solver options:\n",
            "    https://scikit-learn.org/stable/modules/linear_model.html#logistic-regression\n",
            "  n_iter_i = _check_optimize_result(\n"
          ]
        },
        {
          "output_type": "error",
          "ename": "KeyboardInterrupt",
          "evalue": "",
          "traceback": [
            "\u001b[0;31m---------------------------------------------------------------------------\u001b[0m",
            "\u001b[0;31mKeyboardInterrupt\u001b[0m                         Traceback (most recent call last)",
            "\u001b[0;32m<ipython-input-38-abe985f4d5d3>\u001b[0m in \u001b[0;36m<cell line: 0>\u001b[0;34m()\u001b[0m\n\u001b[0;32m----> 1\u001b[0;31m \u001b[0mlr_cv_model\u001b[0m \u001b[0;34m=\u001b[0m \u001b[0mmodel_pipe_logistic\u001b[0m\u001b[0;34m.\u001b[0m\u001b[0mfit\u001b[0m\u001b[0;34m(\u001b[0m\u001b[0mX_train\u001b[0m\u001b[0;34m,\u001b[0m \u001b[0my_train\u001b[0m\u001b[0;34m)\u001b[0m\u001b[0;34m\u001b[0m\u001b[0;34m\u001b[0m\u001b[0m\n\u001b[0m\u001b[1;32m      2\u001b[0m \u001b[0mlr_cv_y_pred\u001b[0m \u001b[0;34m=\u001b[0m \u001b[0mlr_cv_model\u001b[0m\u001b[0;34m.\u001b[0m\u001b[0mpredict\u001b[0m\u001b[0;34m(\u001b[0m\u001b[0mX_test\u001b[0m\u001b[0;34m)\u001b[0m\u001b[0;34m\u001b[0m\u001b[0;34m\u001b[0m\u001b[0m\n",
            "\u001b[0;32m/usr/local/lib/python3.11/dist-packages/sklearn/base.py\u001b[0m in \u001b[0;36mwrapper\u001b[0;34m(estimator, *args, **kwargs)\u001b[0m\n\u001b[1;32m   1387\u001b[0m                 )\n\u001b[1;32m   1388\u001b[0m             ):\n\u001b[0;32m-> 1389\u001b[0;31m                 \u001b[0;32mreturn\u001b[0m \u001b[0mfit_method\u001b[0m\u001b[0;34m(\u001b[0m\u001b[0mestimator\u001b[0m\u001b[0;34m,\u001b[0m \u001b[0;34m*\u001b[0m\u001b[0margs\u001b[0m\u001b[0;34m,\u001b[0m \u001b[0;34m**\u001b[0m\u001b[0mkwargs\u001b[0m\u001b[0;34m)\u001b[0m\u001b[0;34m\u001b[0m\u001b[0;34m\u001b[0m\u001b[0m\n\u001b[0m\u001b[1;32m   1390\u001b[0m \u001b[0;34m\u001b[0m\u001b[0m\n\u001b[1;32m   1391\u001b[0m         \u001b[0;32mreturn\u001b[0m \u001b[0mwrapper\u001b[0m\u001b[0;34m\u001b[0m\u001b[0;34m\u001b[0m\u001b[0m\n",
            "\u001b[0;32m/usr/local/lib/python3.11/dist-packages/sklearn/pipeline.py\u001b[0m in \u001b[0;36mfit\u001b[0;34m(self, X, y, **params)\u001b[0m\n\u001b[1;32m    660\u001b[0m                     \u001b[0mall_params\u001b[0m\u001b[0;34m=\u001b[0m\u001b[0mparams\u001b[0m\u001b[0;34m,\u001b[0m\u001b[0;34m\u001b[0m\u001b[0;34m\u001b[0m\u001b[0m\n\u001b[1;32m    661\u001b[0m                 )\n\u001b[0;32m--> 662\u001b[0;31m                 \u001b[0mself\u001b[0m\u001b[0;34m.\u001b[0m\u001b[0m_final_estimator\u001b[0m\u001b[0;34m.\u001b[0m\u001b[0mfit\u001b[0m\u001b[0;34m(\u001b[0m\u001b[0mXt\u001b[0m\u001b[0;34m,\u001b[0m \u001b[0my\u001b[0m\u001b[0;34m,\u001b[0m \u001b[0;34m**\u001b[0m\u001b[0mlast_step_params\u001b[0m\u001b[0;34m[\u001b[0m\u001b[0;34m\"fit\"\u001b[0m\u001b[0;34m]\u001b[0m\u001b[0;34m)\u001b[0m\u001b[0;34m\u001b[0m\u001b[0;34m\u001b[0m\u001b[0m\n\u001b[0m\u001b[1;32m    663\u001b[0m \u001b[0;34m\u001b[0m\u001b[0m\n\u001b[1;32m    664\u001b[0m         \u001b[0;32mreturn\u001b[0m \u001b[0mself\u001b[0m\u001b[0;34m\u001b[0m\u001b[0;34m\u001b[0m\u001b[0m\n",
            "\u001b[0;32m/usr/local/lib/python3.11/dist-packages/sklearn/base.py\u001b[0m in \u001b[0;36mwrapper\u001b[0;34m(estimator, *args, **kwargs)\u001b[0m\n\u001b[1;32m   1387\u001b[0m                 )\n\u001b[1;32m   1388\u001b[0m             ):\n\u001b[0;32m-> 1389\u001b[0;31m                 \u001b[0;32mreturn\u001b[0m \u001b[0mfit_method\u001b[0m\u001b[0;34m(\u001b[0m\u001b[0mestimator\u001b[0m\u001b[0;34m,\u001b[0m \u001b[0;34m*\u001b[0m\u001b[0margs\u001b[0m\u001b[0;34m,\u001b[0m \u001b[0;34m**\u001b[0m\u001b[0mkwargs\u001b[0m\u001b[0;34m)\u001b[0m\u001b[0;34m\u001b[0m\u001b[0;34m\u001b[0m\u001b[0m\n\u001b[0m\u001b[1;32m   1390\u001b[0m \u001b[0;34m\u001b[0m\u001b[0m\n\u001b[1;32m   1391\u001b[0m         \u001b[0;32mreturn\u001b[0m \u001b[0mwrapper\u001b[0m\u001b[0;34m\u001b[0m\u001b[0;34m\u001b[0m\u001b[0m\n",
            "\u001b[0;32m/usr/local/lib/python3.11/dist-packages/sklearn/linear_model/_logistic.py\u001b[0m in \u001b[0;36mfit\u001b[0;34m(self, X, y, sample_weight, **params)\u001b[0m\n\u001b[1;32m   1992\u001b[0m             \u001b[0mprefer\u001b[0m \u001b[0;34m=\u001b[0m \u001b[0;34m\"processes\"\u001b[0m\u001b[0;34m\u001b[0m\u001b[0;34m\u001b[0m\u001b[0m\n\u001b[1;32m   1993\u001b[0m \u001b[0;34m\u001b[0m\u001b[0m\n\u001b[0;32m-> 1994\u001b[0;31m         fold_coefs_ = Parallel(n_jobs=self.n_jobs, verbose=self.verbose, prefer=prefer)(\n\u001b[0m\u001b[1;32m   1995\u001b[0m             path_func(\n\u001b[1;32m   1996\u001b[0m                 \u001b[0mX\u001b[0m\u001b[0;34m,\u001b[0m\u001b[0;34m\u001b[0m\u001b[0;34m\u001b[0m\u001b[0m\n",
            "\u001b[0;32m/usr/local/lib/python3.11/dist-packages/sklearn/utils/parallel.py\u001b[0m in \u001b[0;36m__call__\u001b[0;34m(self, iterable)\u001b[0m\n\u001b[1;32m     75\u001b[0m             \u001b[0;32mfor\u001b[0m \u001b[0mdelayed_func\u001b[0m\u001b[0;34m,\u001b[0m \u001b[0margs\u001b[0m\u001b[0;34m,\u001b[0m \u001b[0mkwargs\u001b[0m \u001b[0;32min\u001b[0m \u001b[0miterable\u001b[0m\u001b[0;34m\u001b[0m\u001b[0;34m\u001b[0m\u001b[0m\n\u001b[1;32m     76\u001b[0m         )\n\u001b[0;32m---> 77\u001b[0;31m         \u001b[0;32mreturn\u001b[0m \u001b[0msuper\u001b[0m\u001b[0;34m(\u001b[0m\u001b[0;34m)\u001b[0m\u001b[0;34m.\u001b[0m\u001b[0m__call__\u001b[0m\u001b[0;34m(\u001b[0m\u001b[0miterable_with_config\u001b[0m\u001b[0;34m)\u001b[0m\u001b[0;34m\u001b[0m\u001b[0;34m\u001b[0m\u001b[0m\n\u001b[0m\u001b[1;32m     78\u001b[0m \u001b[0;34m\u001b[0m\u001b[0m\n\u001b[1;32m     79\u001b[0m \u001b[0;34m\u001b[0m\u001b[0m\n",
            "\u001b[0;32m/usr/local/lib/python3.11/dist-packages/joblib/parallel.py\u001b[0m in \u001b[0;36m__call__\u001b[0;34m(self, iterable)\u001b[0m\n\u001b[1;32m   1916\u001b[0m             \u001b[0moutput\u001b[0m \u001b[0;34m=\u001b[0m \u001b[0mself\u001b[0m\u001b[0;34m.\u001b[0m\u001b[0m_get_sequential_output\u001b[0m\u001b[0;34m(\u001b[0m\u001b[0miterable\u001b[0m\u001b[0;34m)\u001b[0m\u001b[0;34m\u001b[0m\u001b[0;34m\u001b[0m\u001b[0m\n\u001b[1;32m   1917\u001b[0m             \u001b[0mnext\u001b[0m\u001b[0;34m(\u001b[0m\u001b[0moutput\u001b[0m\u001b[0;34m)\u001b[0m\u001b[0;34m\u001b[0m\u001b[0;34m\u001b[0m\u001b[0m\n\u001b[0;32m-> 1918\u001b[0;31m             \u001b[0;32mreturn\u001b[0m \u001b[0moutput\u001b[0m \u001b[0;32mif\u001b[0m \u001b[0mself\u001b[0m\u001b[0;34m.\u001b[0m\u001b[0mreturn_generator\u001b[0m \u001b[0;32melse\u001b[0m \u001b[0mlist\u001b[0m\u001b[0;34m(\u001b[0m\u001b[0moutput\u001b[0m\u001b[0;34m)\u001b[0m\u001b[0;34m\u001b[0m\u001b[0;34m\u001b[0m\u001b[0m\n\u001b[0m\u001b[1;32m   1919\u001b[0m \u001b[0;34m\u001b[0m\u001b[0m\n\u001b[1;32m   1920\u001b[0m         \u001b[0;31m# Let's create an ID that uniquely identifies the current call. If the\u001b[0m\u001b[0;34m\u001b[0m\u001b[0;34m\u001b[0m\u001b[0m\n",
            "\u001b[0;32m/usr/local/lib/python3.11/dist-packages/joblib/parallel.py\u001b[0m in \u001b[0;36m_get_sequential_output\u001b[0;34m(self, iterable)\u001b[0m\n\u001b[1;32m   1845\u001b[0m                 \u001b[0mself\u001b[0m\u001b[0;34m.\u001b[0m\u001b[0mn_dispatched_batches\u001b[0m \u001b[0;34m+=\u001b[0m \u001b[0;36m1\u001b[0m\u001b[0;34m\u001b[0m\u001b[0;34m\u001b[0m\u001b[0m\n\u001b[1;32m   1846\u001b[0m                 \u001b[0mself\u001b[0m\u001b[0;34m.\u001b[0m\u001b[0mn_dispatched_tasks\u001b[0m \u001b[0;34m+=\u001b[0m \u001b[0;36m1\u001b[0m\u001b[0;34m\u001b[0m\u001b[0;34m\u001b[0m\u001b[0m\n\u001b[0;32m-> 1847\u001b[0;31m                 \u001b[0mres\u001b[0m \u001b[0;34m=\u001b[0m \u001b[0mfunc\u001b[0m\u001b[0;34m(\u001b[0m\u001b[0;34m*\u001b[0m\u001b[0margs\u001b[0m\u001b[0;34m,\u001b[0m \u001b[0;34m**\u001b[0m\u001b[0mkwargs\u001b[0m\u001b[0;34m)\u001b[0m\u001b[0;34m\u001b[0m\u001b[0;34m\u001b[0m\u001b[0m\n\u001b[0m\u001b[1;32m   1848\u001b[0m                 \u001b[0mself\u001b[0m\u001b[0;34m.\u001b[0m\u001b[0mn_completed_tasks\u001b[0m \u001b[0;34m+=\u001b[0m \u001b[0;36m1\u001b[0m\u001b[0;34m\u001b[0m\u001b[0;34m\u001b[0m\u001b[0m\n\u001b[1;32m   1849\u001b[0m                 \u001b[0mself\u001b[0m\u001b[0;34m.\u001b[0m\u001b[0mprint_progress\u001b[0m\u001b[0;34m(\u001b[0m\u001b[0;34m)\u001b[0m\u001b[0;34m\u001b[0m\u001b[0;34m\u001b[0m\u001b[0m\n",
            "\u001b[0;32m/usr/local/lib/python3.11/dist-packages/sklearn/utils/parallel.py\u001b[0m in \u001b[0;36m__call__\u001b[0;34m(self, *args, **kwargs)\u001b[0m\n\u001b[1;32m    137\u001b[0m             \u001b[0mconfig\u001b[0m \u001b[0;34m=\u001b[0m \u001b[0;34m{\u001b[0m\u001b[0;34m}\u001b[0m\u001b[0;34m\u001b[0m\u001b[0;34m\u001b[0m\u001b[0m\n\u001b[1;32m    138\u001b[0m         \u001b[0;32mwith\u001b[0m \u001b[0mconfig_context\u001b[0m\u001b[0;34m(\u001b[0m\u001b[0;34m**\u001b[0m\u001b[0mconfig\u001b[0m\u001b[0;34m)\u001b[0m\u001b[0;34m:\u001b[0m\u001b[0;34m\u001b[0m\u001b[0;34m\u001b[0m\u001b[0m\n\u001b[0;32m--> 139\u001b[0;31m             \u001b[0;32mreturn\u001b[0m \u001b[0mself\u001b[0m\u001b[0;34m.\u001b[0m\u001b[0mfunction\u001b[0m\u001b[0;34m(\u001b[0m\u001b[0;34m*\u001b[0m\u001b[0margs\u001b[0m\u001b[0;34m,\u001b[0m \u001b[0;34m**\u001b[0m\u001b[0mkwargs\u001b[0m\u001b[0;34m)\u001b[0m\u001b[0;34m\u001b[0m\u001b[0;34m\u001b[0m\u001b[0m\n\u001b[0m\u001b[1;32m    140\u001b[0m \u001b[0;34m\u001b[0m\u001b[0m\n\u001b[1;32m    141\u001b[0m \u001b[0;34m\u001b[0m\u001b[0m\n",
            "\u001b[0;32m/usr/local/lib/python3.11/dist-packages/sklearn/linear_model/_logistic.py\u001b[0m in \u001b[0;36m_log_reg_scoring_path\u001b[0;34m(X, y, train, test, pos_class, Cs, scoring, fit_intercept, max_iter, tol, class_weight, verbose, solver, penalty, dual, intercept_scaling, multi_class, random_state, max_squared_sum, sample_weight, l1_ratio, score_params)\u001b[0m\n\u001b[1;32m    744\u001b[0m         \u001b[0msw_test\u001b[0m \u001b[0;34m=\u001b[0m \u001b[0msample_weight\u001b[0m\u001b[0;34m[\u001b[0m\u001b[0mtest\u001b[0m\u001b[0;34m]\u001b[0m\u001b[0;34m\u001b[0m\u001b[0;34m\u001b[0m\u001b[0m\n\u001b[1;32m    745\u001b[0m \u001b[0;34m\u001b[0m\u001b[0m\n\u001b[0;32m--> 746\u001b[0;31m     coefs, Cs, n_iter = _logistic_regression_path(\n\u001b[0m\u001b[1;32m    747\u001b[0m         \u001b[0mX_train\u001b[0m\u001b[0;34m,\u001b[0m\u001b[0;34m\u001b[0m\u001b[0;34m\u001b[0m\u001b[0m\n\u001b[1;32m    748\u001b[0m         \u001b[0my_train\u001b[0m\u001b[0;34m,\u001b[0m\u001b[0;34m\u001b[0m\u001b[0;34m\u001b[0m\u001b[0m\n",
            "\u001b[0;32m/usr/local/lib/python3.11/dist-packages/sklearn/linear_model/_logistic.py\u001b[0m in \u001b[0;36m_logistic_regression_path\u001b[0;34m(X, y, pos_class, Cs, fit_intercept, max_iter, tol, verbose, solver, coef, class_weight, dual, penalty, intercept_scaling, multi_class, random_state, check_input, max_squared_sum, sample_weight, l1_ratio, n_threads)\u001b[0m\n\u001b[1;32m    449\u001b[0m                 \u001b[0mnp\u001b[0m\u001b[0;34m.\u001b[0m\u001b[0msearchsorted\u001b[0m\u001b[0;34m(\u001b[0m\u001b[0mnp\u001b[0m\u001b[0;34m.\u001b[0m\u001b[0marray\u001b[0m\u001b[0;34m(\u001b[0m\u001b[0;34m[\u001b[0m\u001b[0;36m0\u001b[0m\u001b[0;34m,\u001b[0m \u001b[0;36m1\u001b[0m\u001b[0;34m,\u001b[0m \u001b[0;36m2\u001b[0m\u001b[0;34m,\u001b[0m \u001b[0;36m3\u001b[0m\u001b[0;34m]\u001b[0m\u001b[0;34m)\u001b[0m\u001b[0;34m,\u001b[0m \u001b[0mverbose\u001b[0m\u001b[0;34m)\u001b[0m\u001b[0;34m\u001b[0m\u001b[0;34m\u001b[0m\u001b[0m\n\u001b[1;32m    450\u001b[0m             ]\n\u001b[0;32m--> 451\u001b[0;31m             opt_res = optimize.minimize(\n\u001b[0m\u001b[1;32m    452\u001b[0m                 \u001b[0mfunc\u001b[0m\u001b[0;34m,\u001b[0m\u001b[0;34m\u001b[0m\u001b[0;34m\u001b[0m\u001b[0m\n\u001b[1;32m    453\u001b[0m                 \u001b[0mw0\u001b[0m\u001b[0;34m,\u001b[0m\u001b[0;34m\u001b[0m\u001b[0;34m\u001b[0m\u001b[0m\n",
            "\u001b[0;32m/usr/local/lib/python3.11/dist-packages/scipy/optimize/_minimize.py\u001b[0m in \u001b[0;36mminimize\u001b[0;34m(fun, x0, args, method, jac, hess, hessp, bounds, constraints, tol, callback, options)\u001b[0m\n\u001b[1;32m    736\u001b[0m                                  **options)\n\u001b[1;32m    737\u001b[0m     \u001b[0;32melif\u001b[0m \u001b[0mmeth\u001b[0m \u001b[0;34m==\u001b[0m \u001b[0;34m'l-bfgs-b'\u001b[0m\u001b[0;34m:\u001b[0m\u001b[0;34m\u001b[0m\u001b[0;34m\u001b[0m\u001b[0m\n\u001b[0;32m--> 738\u001b[0;31m         res = _minimize_lbfgsb(fun, x0, args, jac, bounds,\n\u001b[0m\u001b[1;32m    739\u001b[0m                                callback=callback, **options)\n\u001b[1;32m    740\u001b[0m     \u001b[0;32melif\u001b[0m \u001b[0mmeth\u001b[0m \u001b[0;34m==\u001b[0m \u001b[0;34m'tnc'\u001b[0m\u001b[0;34m:\u001b[0m\u001b[0;34m\u001b[0m\u001b[0;34m\u001b[0m\u001b[0m\n",
            "\u001b[0;32m/usr/local/lib/python3.11/dist-packages/scipy/optimize/_lbfgsb_py.py\u001b[0m in \u001b[0;36m_minimize_lbfgsb\u001b[0;34m(fun, x0, args, jac, bounds, disp, maxcor, ftol, gtol, eps, maxfun, maxiter, iprint, callback, maxls, finite_diff_rel_step, **unknown_options)\u001b[0m\n\u001b[1;32m    439\u001b[0m             \u001b[0;31m# until the completion of the current minimization iteration.\u001b[0m\u001b[0;34m\u001b[0m\u001b[0;34m\u001b[0m\u001b[0m\n\u001b[1;32m    440\u001b[0m             \u001b[0;31m# Overwrite f and g:\u001b[0m\u001b[0;34m\u001b[0m\u001b[0;34m\u001b[0m\u001b[0m\n\u001b[0;32m--> 441\u001b[0;31m             \u001b[0mf\u001b[0m\u001b[0;34m,\u001b[0m \u001b[0mg\u001b[0m \u001b[0;34m=\u001b[0m \u001b[0mfunc_and_grad\u001b[0m\u001b[0;34m(\u001b[0m\u001b[0mx\u001b[0m\u001b[0;34m)\u001b[0m\u001b[0;34m\u001b[0m\u001b[0;34m\u001b[0m\u001b[0m\n\u001b[0m\u001b[1;32m    442\u001b[0m         \u001b[0;32melif\u001b[0m \u001b[0mtask\u001b[0m\u001b[0;34m[\u001b[0m\u001b[0;36m0\u001b[0m\u001b[0;34m]\u001b[0m \u001b[0;34m==\u001b[0m \u001b[0;36m1\u001b[0m\u001b[0;34m:\u001b[0m\u001b[0;34m\u001b[0m\u001b[0;34m\u001b[0m\u001b[0m\n\u001b[1;32m    443\u001b[0m             \u001b[0;31m# new iteration\u001b[0m\u001b[0;34m\u001b[0m\u001b[0;34m\u001b[0m\u001b[0m\n",
            "\u001b[0;32m/usr/local/lib/python3.11/dist-packages/scipy/optimize/_differentiable_functions.py\u001b[0m in \u001b[0;36mfun_and_grad\u001b[0;34m(self, x)\u001b[0m\n\u001b[1;32m    342\u001b[0m         \u001b[0;32mif\u001b[0m \u001b[0;32mnot\u001b[0m \u001b[0mnp\u001b[0m\u001b[0;34m.\u001b[0m\u001b[0marray_equal\u001b[0m\u001b[0;34m(\u001b[0m\u001b[0mx\u001b[0m\u001b[0;34m,\u001b[0m \u001b[0mself\u001b[0m\u001b[0;34m.\u001b[0m\u001b[0mx\u001b[0m\u001b[0;34m)\u001b[0m\u001b[0;34m:\u001b[0m\u001b[0;34m\u001b[0m\u001b[0;34m\u001b[0m\u001b[0m\n\u001b[1;32m    343\u001b[0m             \u001b[0mself\u001b[0m\u001b[0;34m.\u001b[0m\u001b[0m_update_x\u001b[0m\u001b[0;34m(\u001b[0m\u001b[0mx\u001b[0m\u001b[0;34m)\u001b[0m\u001b[0;34m\u001b[0m\u001b[0;34m\u001b[0m\u001b[0m\n\u001b[0;32m--> 344\u001b[0;31m         \u001b[0mself\u001b[0m\u001b[0;34m.\u001b[0m\u001b[0m_update_fun\u001b[0m\u001b[0;34m(\u001b[0m\u001b[0;34m)\u001b[0m\u001b[0;34m\u001b[0m\u001b[0;34m\u001b[0m\u001b[0m\n\u001b[0m\u001b[1;32m    345\u001b[0m         \u001b[0mself\u001b[0m\u001b[0;34m.\u001b[0m\u001b[0m_update_grad\u001b[0m\u001b[0;34m(\u001b[0m\u001b[0;34m)\u001b[0m\u001b[0;34m\u001b[0m\u001b[0;34m\u001b[0m\u001b[0m\n\u001b[1;32m    346\u001b[0m         \u001b[0;32mreturn\u001b[0m \u001b[0mself\u001b[0m\u001b[0;34m.\u001b[0m\u001b[0mf\u001b[0m\u001b[0;34m,\u001b[0m \u001b[0mself\u001b[0m\u001b[0;34m.\u001b[0m\u001b[0mg\u001b[0m\u001b[0;34m\u001b[0m\u001b[0;34m\u001b[0m\u001b[0m\n",
            "\u001b[0;32m/usr/local/lib/python3.11/dist-packages/scipy/optimize/_differentiable_functions.py\u001b[0m in \u001b[0;36m_update_fun\u001b[0;34m(self)\u001b[0m\n\u001b[1;32m    293\u001b[0m     \u001b[0;32mdef\u001b[0m \u001b[0m_update_fun\u001b[0m\u001b[0;34m(\u001b[0m\u001b[0mself\u001b[0m\u001b[0;34m)\u001b[0m\u001b[0;34m:\u001b[0m\u001b[0;34m\u001b[0m\u001b[0;34m\u001b[0m\u001b[0m\n\u001b[1;32m    294\u001b[0m         \u001b[0;32mif\u001b[0m \u001b[0;32mnot\u001b[0m \u001b[0mself\u001b[0m\u001b[0;34m.\u001b[0m\u001b[0mf_updated\u001b[0m\u001b[0;34m:\u001b[0m\u001b[0;34m\u001b[0m\u001b[0;34m\u001b[0m\u001b[0m\n\u001b[0;32m--> 295\u001b[0;31m             \u001b[0mfx\u001b[0m \u001b[0;34m=\u001b[0m \u001b[0mself\u001b[0m\u001b[0;34m.\u001b[0m\u001b[0m_wrapped_fun\u001b[0m\u001b[0;34m(\u001b[0m\u001b[0mself\u001b[0m\u001b[0;34m.\u001b[0m\u001b[0mx\u001b[0m\u001b[0;34m)\u001b[0m\u001b[0;34m\u001b[0m\u001b[0;34m\u001b[0m\u001b[0m\n\u001b[0m\u001b[1;32m    296\u001b[0m             \u001b[0;32mif\u001b[0m \u001b[0mfx\u001b[0m \u001b[0;34m<\u001b[0m \u001b[0mself\u001b[0m\u001b[0;34m.\u001b[0m\u001b[0m_lowest_f\u001b[0m\u001b[0;34m:\u001b[0m\u001b[0;34m\u001b[0m\u001b[0;34m\u001b[0m\u001b[0m\n\u001b[1;32m    297\u001b[0m                 \u001b[0mself\u001b[0m\u001b[0;34m.\u001b[0m\u001b[0m_lowest_x\u001b[0m \u001b[0;34m=\u001b[0m \u001b[0mself\u001b[0m\u001b[0;34m.\u001b[0m\u001b[0mx\u001b[0m\u001b[0;34m\u001b[0m\u001b[0;34m\u001b[0m\u001b[0m\n",
            "\u001b[0;32m/usr/local/lib/python3.11/dist-packages/scipy/optimize/_differentiable_functions.py\u001b[0m in \u001b[0;36mwrapped\u001b[0;34m(x)\u001b[0m\n\u001b[1;32m     19\u001b[0m         \u001b[0;31m# Overwriting results in undefined behaviour because\u001b[0m\u001b[0;34m\u001b[0m\u001b[0;34m\u001b[0m\u001b[0m\n\u001b[1;32m     20\u001b[0m         \u001b[0;31m# fun(self.x) will change self.x, with the two no longer linked.\u001b[0m\u001b[0;34m\u001b[0m\u001b[0;34m\u001b[0m\u001b[0m\n\u001b[0;32m---> 21\u001b[0;31m         \u001b[0mfx\u001b[0m \u001b[0;34m=\u001b[0m \u001b[0mfun\u001b[0m\u001b[0;34m(\u001b[0m\u001b[0mnp\u001b[0m\u001b[0;34m.\u001b[0m\u001b[0mcopy\u001b[0m\u001b[0;34m(\u001b[0m\u001b[0mx\u001b[0m\u001b[0;34m)\u001b[0m\u001b[0;34m,\u001b[0m \u001b[0;34m*\u001b[0m\u001b[0margs\u001b[0m\u001b[0;34m)\u001b[0m\u001b[0;34m\u001b[0m\u001b[0;34m\u001b[0m\u001b[0m\n\u001b[0m\u001b[1;32m     22\u001b[0m         \u001b[0;31m# Make sure the function returns a true scalar\u001b[0m\u001b[0;34m\u001b[0m\u001b[0;34m\u001b[0m\u001b[0m\n\u001b[1;32m     23\u001b[0m         \u001b[0;32mif\u001b[0m \u001b[0;32mnot\u001b[0m \u001b[0mnp\u001b[0m\u001b[0;34m.\u001b[0m\u001b[0misscalar\u001b[0m\u001b[0;34m(\u001b[0m\u001b[0mfx\u001b[0m\u001b[0;34m)\u001b[0m\u001b[0;34m:\u001b[0m\u001b[0;34m\u001b[0m\u001b[0;34m\u001b[0m\u001b[0m\n",
            "\u001b[0;32m/usr/local/lib/python3.11/dist-packages/scipy/optimize/_optimize.py\u001b[0m in \u001b[0;36m__call__\u001b[0;34m(self, x, *args)\u001b[0m\n\u001b[1;32m     78\u001b[0m     \u001b[0;32mdef\u001b[0m \u001b[0m__call__\u001b[0m\u001b[0;34m(\u001b[0m\u001b[0mself\u001b[0m\u001b[0;34m,\u001b[0m \u001b[0mx\u001b[0m\u001b[0;34m,\u001b[0m \u001b[0;34m*\u001b[0m\u001b[0margs\u001b[0m\u001b[0;34m)\u001b[0m\u001b[0;34m:\u001b[0m\u001b[0;34m\u001b[0m\u001b[0;34m\u001b[0m\u001b[0m\n\u001b[1;32m     79\u001b[0m         \u001b[0;34m\"\"\" returns the function value \"\"\"\u001b[0m\u001b[0;34m\u001b[0m\u001b[0;34m\u001b[0m\u001b[0m\n\u001b[0;32m---> 80\u001b[0;31m         \u001b[0mself\u001b[0m\u001b[0;34m.\u001b[0m\u001b[0m_compute_if_needed\u001b[0m\u001b[0;34m(\u001b[0m\u001b[0mx\u001b[0m\u001b[0;34m,\u001b[0m \u001b[0;34m*\u001b[0m\u001b[0margs\u001b[0m\u001b[0;34m)\u001b[0m\u001b[0;34m\u001b[0m\u001b[0;34m\u001b[0m\u001b[0m\n\u001b[0m\u001b[1;32m     81\u001b[0m         \u001b[0;32mreturn\u001b[0m \u001b[0mself\u001b[0m\u001b[0;34m.\u001b[0m\u001b[0m_value\u001b[0m\u001b[0;34m\u001b[0m\u001b[0;34m\u001b[0m\u001b[0m\n\u001b[1;32m     82\u001b[0m \u001b[0;34m\u001b[0m\u001b[0m\n",
            "\u001b[0;32m/usr/local/lib/python3.11/dist-packages/scipy/optimize/_optimize.py\u001b[0m in \u001b[0;36m_compute_if_needed\u001b[0;34m(self, x, *args)\u001b[0m\n\u001b[1;32m     72\u001b[0m         \u001b[0;32mif\u001b[0m \u001b[0;32mnot\u001b[0m \u001b[0mnp\u001b[0m\u001b[0;34m.\u001b[0m\u001b[0mall\u001b[0m\u001b[0;34m(\u001b[0m\u001b[0mx\u001b[0m \u001b[0;34m==\u001b[0m \u001b[0mself\u001b[0m\u001b[0;34m.\u001b[0m\u001b[0mx\u001b[0m\u001b[0;34m)\u001b[0m \u001b[0;32mor\u001b[0m \u001b[0mself\u001b[0m\u001b[0;34m.\u001b[0m\u001b[0m_value\u001b[0m \u001b[0;32mis\u001b[0m \u001b[0;32mNone\u001b[0m \u001b[0;32mor\u001b[0m \u001b[0mself\u001b[0m\u001b[0;34m.\u001b[0m\u001b[0mjac\u001b[0m \u001b[0;32mis\u001b[0m \u001b[0;32mNone\u001b[0m\u001b[0;34m:\u001b[0m\u001b[0;34m\u001b[0m\u001b[0;34m\u001b[0m\u001b[0m\n\u001b[1;32m     73\u001b[0m             \u001b[0mself\u001b[0m\u001b[0;34m.\u001b[0m\u001b[0mx\u001b[0m \u001b[0;34m=\u001b[0m \u001b[0mnp\u001b[0m\u001b[0;34m.\u001b[0m\u001b[0masarray\u001b[0m\u001b[0;34m(\u001b[0m\u001b[0mx\u001b[0m\u001b[0;34m)\u001b[0m\u001b[0;34m.\u001b[0m\u001b[0mcopy\u001b[0m\u001b[0;34m(\u001b[0m\u001b[0;34m)\u001b[0m\u001b[0;34m\u001b[0m\u001b[0;34m\u001b[0m\u001b[0m\n\u001b[0;32m---> 74\u001b[0;31m             \u001b[0mfg\u001b[0m \u001b[0;34m=\u001b[0m \u001b[0mself\u001b[0m\u001b[0;34m.\u001b[0m\u001b[0mfun\u001b[0m\u001b[0;34m(\u001b[0m\u001b[0mx\u001b[0m\u001b[0;34m,\u001b[0m \u001b[0;34m*\u001b[0m\u001b[0margs\u001b[0m\u001b[0;34m)\u001b[0m\u001b[0;34m\u001b[0m\u001b[0;34m\u001b[0m\u001b[0m\n\u001b[0m\u001b[1;32m     75\u001b[0m             \u001b[0mself\u001b[0m\u001b[0;34m.\u001b[0m\u001b[0mjac\u001b[0m \u001b[0;34m=\u001b[0m \u001b[0mfg\u001b[0m\u001b[0;34m[\u001b[0m\u001b[0;36m1\u001b[0m\u001b[0;34m]\u001b[0m\u001b[0;34m\u001b[0m\u001b[0;34m\u001b[0m\u001b[0m\n\u001b[1;32m     76\u001b[0m             \u001b[0mself\u001b[0m\u001b[0;34m.\u001b[0m\u001b[0m_value\u001b[0m \u001b[0;34m=\u001b[0m \u001b[0mfg\u001b[0m\u001b[0;34m[\u001b[0m\u001b[0;36m0\u001b[0m\u001b[0;34m]\u001b[0m\u001b[0;34m\u001b[0m\u001b[0;34m\u001b[0m\u001b[0m\n",
            "\u001b[0;32m/usr/local/lib/python3.11/dist-packages/sklearn/linear_model/_linear_loss.py\u001b[0m in \u001b[0;36mloss_gradient\u001b[0;34m(self, coef, X, y, sample_weight, l2_reg_strength, n_threads, raw_prediction)\u001b[0m\n\u001b[1;32m    314\u001b[0m             \u001b[0mweights\u001b[0m\u001b[0;34m,\u001b[0m \u001b[0mintercept\u001b[0m \u001b[0;34m=\u001b[0m \u001b[0mself\u001b[0m\u001b[0;34m.\u001b[0m\u001b[0mweight_intercept\u001b[0m\u001b[0;34m(\u001b[0m\u001b[0mcoef\u001b[0m\u001b[0;34m)\u001b[0m\u001b[0;34m\u001b[0m\u001b[0;34m\u001b[0m\u001b[0m\n\u001b[1;32m    315\u001b[0m \u001b[0;34m\u001b[0m\u001b[0m\n\u001b[0;32m--> 316\u001b[0;31m         loss, grad_pointwise = self.base_loss.loss_gradient(\n\u001b[0m\u001b[1;32m    317\u001b[0m             \u001b[0my_true\u001b[0m\u001b[0;34m=\u001b[0m\u001b[0my\u001b[0m\u001b[0;34m,\u001b[0m\u001b[0;34m\u001b[0m\u001b[0;34m\u001b[0m\u001b[0m\n\u001b[1;32m    318\u001b[0m             \u001b[0mraw_prediction\u001b[0m\u001b[0;34m=\u001b[0m\u001b[0mraw_prediction\u001b[0m\u001b[0;34m,\u001b[0m\u001b[0;34m\u001b[0m\u001b[0;34m\u001b[0m\u001b[0m\n",
            "\u001b[0;32m/usr/local/lib/python3.11/dist-packages/sklearn/_loss/loss.py\u001b[0m in \u001b[0;36mloss_gradient\u001b[0;34m(self, y_true, raw_prediction, sample_weight, loss_out, gradient_out, n_threads)\u001b[0m\n\u001b[1;32m    203\u001b[0m         \u001b[0;32mreturn\u001b[0m \u001b[0mloss_out\u001b[0m\u001b[0;34m\u001b[0m\u001b[0;34m\u001b[0m\u001b[0m\n\u001b[1;32m    204\u001b[0m \u001b[0;34m\u001b[0m\u001b[0m\n\u001b[0;32m--> 205\u001b[0;31m     def loss_gradient(\n\u001b[0m\u001b[1;32m    206\u001b[0m         \u001b[0mself\u001b[0m\u001b[0;34m,\u001b[0m\u001b[0;34m\u001b[0m\u001b[0;34m\u001b[0m\u001b[0m\n\u001b[1;32m    207\u001b[0m         \u001b[0my_true\u001b[0m\u001b[0;34m,\u001b[0m\u001b[0;34m\u001b[0m\u001b[0;34m\u001b[0m\u001b[0m\n",
            "\u001b[0;31mKeyboardInterrupt\u001b[0m: "
          ]
        }
      ],
      "execution_count": 38
    },
    {
      "cell_type": "code",
      "source": [
        "accuracy_score(y_test,lr_cv_y_pred)\n"
      ],
      "metadata": {
        "trusted": true,
        "execution": {
          "iopub.status.busy": "2025-03-21T04:57:06.062446Z",
          "iopub.status.idle": "2025-03-21T04:57:06.062808Z",
          "shell.execute_reply": "2025-03-21T04:57:06.062622Z"
        },
        "id": "JELRKZvB25_z"
      },
      "outputs": [],
      "execution_count": null
    },
    {
      "cell_type": "markdown",
      "source": [
        "## Model 2: KNN"
      ],
      "metadata": {
        "id": "WuOMuhCy25_0"
      }
    },
    {
      "cell_type": "code",
      "source": [
        "knn_model_pipe = Pipeline([\n",
        "   ('preprocess', preprocessing_pipe),\n",
        "   ('knn_model', KNeighborsClassifier())\n",
        "])"
      ],
      "metadata": {
        "trusted": true,
        "execution": {
          "iopub.status.busy": "2025-03-21T04:57:06.06354Z",
          "iopub.status.idle": "2025-03-21T04:57:06.06397Z",
          "shell.execute_reply": "2025-03-21T04:57:06.06382Z"
        },
        "id": "1XqsAkkD25_1"
      },
      "outputs": [],
      "execution_count": 39
    },
    {
      "cell_type": "code",
      "source": [
        "knn_model = knn_model_pipe.fit(X_train, y_train)\n",
        "knn_y_pred = knn_model.predict(X_test)"
      ],
      "metadata": {
        "trusted": true,
        "execution": {
          "iopub.status.busy": "2025-03-21T04:57:06.06461Z",
          "iopub.status.idle": "2025-03-21T04:57:06.064911Z",
          "shell.execute_reply": "2025-03-21T04:57:06.064793Z"
        },
        "id": "5oA-KT9H25_3"
      },
      "outputs": [],
      "execution_count": 40
    },
    {
      "cell_type": "code",
      "source": [
        "accuracy_score(y_test,knn_y_pred)"
      ],
      "metadata": {
        "trusted": true,
        "execution": {
          "iopub.status.busy": "2025-03-21T04:57:06.065723Z",
          "iopub.status.idle": "2025-03-21T04:57:06.066062Z",
          "shell.execute_reply": "2025-03-21T04:57:06.065928Z"
        },
        "colab": {
          "base_uri": "https://localhost:8080/"
        },
        "id": "n6bqgyWD25_4",
        "outputId": "ff2e0659-2cbb-44f8-d4da-bf8e778a4a30"
      },
      "outputs": [
        {
          "output_type": "execute_result",
          "data": {
            "text/plain": [
              "0.5165"
            ]
          },
          "metadata": {},
          "execution_count": 41
        }
      ],
      "execution_count": 41
    },
    {
      "cell_type": "markdown",
      "source": [
        "#### Hyperparameter Tuning"
      ],
      "metadata": {
        "id": "rxImGsxM25_4"
      }
    },
    {
      "cell_type": "code",
      "source": [
        "gridcv_knn_model_pipe = Pipeline([\n",
        "   ('preprocess', preprocessing_pipe),\n",
        "   ('knn_model', KNeighborsClassifier(n_neighbors=3))\n",
        "])"
      ],
      "metadata": {
        "trusted": true,
        "execution": {
          "iopub.status.busy": "2025-03-21T04:57:06.066865Z",
          "iopub.status.idle": "2025-03-21T04:57:06.067157Z",
          "shell.execute_reply": "2025-03-21T04:57:06.067035Z"
        },
        "id": "uVh2mjci25_4"
      },
      "outputs": [],
      "execution_count": 44
    },
    {
      "cell_type": "code",
      "source": [
        "gridcv_knn_model = gridcv_knn_model_pipe.fit(X_train, y_train)\n",
        "gridcv_knn_y_pred = gridcv_knn_model.predict(X_test)"
      ],
      "metadata": {
        "trusted": true,
        "execution": {
          "iopub.status.busy": "2025-03-21T04:57:06.067817Z",
          "iopub.status.idle": "2025-03-21T04:57:06.06814Z",
          "shell.execute_reply": "2025-03-21T04:57:06.068009Z"
        },
        "id": "1Xnkj9Eb25_5"
      },
      "outputs": [],
      "execution_count": 45
    },
    {
      "cell_type": "code",
      "source": [
        "accuracy_score(y_test,gridcv_knn_y_pred)"
      ],
      "metadata": {
        "trusted": true,
        "execution": {
          "iopub.status.busy": "2025-03-21T04:57:06.069147Z",
          "iopub.status.idle": "2025-03-21T04:57:06.069604Z",
          "shell.execute_reply": "2025-03-21T04:57:06.069412Z"
        },
        "colab": {
          "base_uri": "https://localhost:8080/"
        },
        "id": "CrdHUD4Q25_6",
        "outputId": "dc6907be-83ce-45a8-de34-1ffe79767fa0"
      },
      "outputs": [
        {
          "output_type": "execute_result",
          "data": {
            "text/plain": [
              "0.5146"
            ]
          },
          "metadata": {},
          "execution_count": 46
        }
      ],
      "execution_count": 46
    },
    {
      "cell_type": "markdown",
      "source": [
        "## Model 3: RandomForestClassifier"
      ],
      "metadata": {
        "id": "R-wlOd-N25_6"
      }
    },
    {
      "cell_type": "code",
      "source": [
        "rf_model_pipe = Pipeline([\n",
        "   ('preprocess', preprocessing_pipe),\n",
        "   ('rf_model', RandomForestClassifier())\n",
        "])"
      ],
      "metadata": {
        "trusted": true,
        "execution": {
          "iopub.status.busy": "2025-03-21T04:57:06.070783Z",
          "iopub.status.idle": "2025-03-21T04:57:06.071234Z",
          "shell.execute_reply": "2025-03-21T04:57:06.071028Z"
        },
        "id": "oTRxouzq25_7"
      },
      "outputs": [],
      "execution_count": 47
    },
    {
      "cell_type": "code",
      "source": [
        "rf_model = rf_model_pipe.fit(X_train, y_train)\n",
        "rf_y_pred = rf_model.predict(X_test)"
      ],
      "metadata": {
        "trusted": true,
        "execution": {
          "iopub.status.busy": "2025-03-21T04:57:06.07245Z",
          "iopub.status.idle": "2025-03-21T04:57:06.072902Z",
          "shell.execute_reply": "2025-03-21T04:57:06.07271Z"
        },
        "id": "yr1w4QPI25_8"
      },
      "outputs": [],
      "execution_count": 48
    },
    {
      "cell_type": "code",
      "source": [
        "accuracy_score(y_test,rf_y_pred)"
      ],
      "metadata": {
        "trusted": true,
        "execution": {
          "iopub.status.busy": "2025-03-21T04:57:06.07369Z",
          "iopub.status.idle": "2025-03-21T04:57:06.074135Z",
          "shell.execute_reply": "2025-03-21T04:57:06.073932Z"
        },
        "colab": {
          "base_uri": "https://localhost:8080/"
        },
        "id": "cnnVdz3G25_8",
        "outputId": "b84b162b-071c-486d-a89e-064e2e594212"
      },
      "outputs": [
        {
          "output_type": "execute_result",
          "data": {
            "text/plain": [
              "0.609"
            ]
          },
          "metadata": {},
          "execution_count": 49
        }
      ],
      "execution_count": 49
    },
    {
      "cell_type": "code",
      "source": [
        "sumbit_to_competition(rf_model)"
      ],
      "metadata": {
        "trusted": true,
        "execution": {
          "iopub.status.busy": "2025-03-21T04:57:06.074962Z",
          "iopub.status.idle": "2025-03-21T04:57:06.075428Z",
          "shell.execute_reply": "2025-03-21T04:57:06.075209Z"
        },
        "colab": {
          "base_uri": "https://localhost:8080/"
        },
        "id": "LqN3U6Sf25_9",
        "outputId": "764ca3ce-31a7-49d6-b2e5-59f3c73c2897"
      },
      "outputs": [
        {
          "output_type": "stream",
          "name": "stdout",
          "text": [
            "   id  target\n",
            "0   0       1\n",
            "1   1       0\n",
            "2   2       0\n",
            "3   3       0\n",
            "4   4       0\n"
          ]
        }
      ],
      "execution_count": 50
    },
    {
      "cell_type": "markdown",
      "source": [
        "#### Hyperparameter Tuning (RandomizedSearchCV)\n",
        "\n",
        "took way too much time (didn't execute)"
      ],
      "metadata": {
        "id": "laIxWlu826AK"
      }
    },
    {
      "cell_type": "code",
      "source": [
        "randomcv_model_pipe = Pipeline([\n",
        "   ('preprocess', preprocessing_pipe),\n",
        "   ('rf_model_randomcv', RandomForestClassifier(\n",
        "                                       max_depth=20,\n",
        "                                       max_features=None,\n",
        "                                       min_samples_leaf=2,\n",
        "                                       n_estimators=300,\n",
        "                                       class_weight='balanced')\n",
        "    )\n",
        "])\n",
        "randomcv_rf_model = randomcv_model_pipe.fit(X_train, y_train)\n",
        "randomcv_rf_y_pred = randomcv_rf_model.predict(X_test)"
      ],
      "metadata": {
        "trusted": true,
        "execution": {
          "iopub.status.busy": "2025-03-21T04:57:06.076565Z",
          "iopub.status.idle": "2025-03-21T04:57:06.076998Z",
          "shell.execute_reply": "2025-03-21T04:57:06.076809Z"
        },
        "id": "3vm7Oms826AM"
      },
      "outputs": [],
      "execution_count": null
    },
    {
      "cell_type": "markdown",
      "source": [
        "## Model 4: HistGradientBoostingClassifier"
      ],
      "metadata": {
        "id": "kgR88ohx26AN"
      }
    },
    {
      "cell_type": "code",
      "source": [
        "hgbc_model_pipe = Pipeline([\n",
        "    ('preprocess', preprocessing_pipe),\n",
        "    ('hgbc_model', HistGradientBoostingClassifier(class_weight='balanced'))\n",
        "])"
      ],
      "metadata": {
        "trusted": true,
        "execution": {
          "iopub.status.busy": "2025-03-21T04:57:06.077824Z",
          "iopub.status.idle": "2025-03-21T04:57:06.078284Z",
          "shell.execute_reply": "2025-03-21T04:57:06.078064Z"
        },
        "id": "aQr1FZAT26AO"
      },
      "outputs": [],
      "execution_count": null
    },
    {
      "cell_type": "code",
      "source": [
        "hgbc_model = hgbc_model_pipe.fit(X_train, y_train)\n",
        "hgbc_y_pred = hgbc_model.predict(X_test)"
      ],
      "metadata": {
        "trusted": true,
        "execution": {
          "iopub.status.busy": "2025-03-21T04:57:06.079441Z",
          "iopub.status.idle": "2025-03-21T04:57:06.079869Z",
          "shell.execute_reply": "2025-03-21T04:57:06.079682Z"
        },
        "id": "fisZOWI826BA"
      },
      "outputs": [],
      "execution_count": null
    },
    {
      "cell_type": "code",
      "source": [
        "accuracy_score(y_test,hgbc_y_pred)"
      ],
      "metadata": {
        "trusted": true,
        "execution": {
          "iopub.status.busy": "2025-03-21T04:57:06.080741Z",
          "iopub.status.idle": "2025-03-21T04:57:06.081177Z",
          "shell.execute_reply": "2025-03-21T04:57:06.080977Z"
        },
        "id": "VpTu8tE926BB"
      },
      "outputs": [],
      "execution_count": null
    },
    {
      "cell_type": "code",
      "source": [
        "sumbit_to_competition(hgbc_model)"
      ],
      "metadata": {
        "trusted": true,
        "execution": {
          "iopub.status.busy": "2025-03-21T04:57:06.082211Z",
          "iopub.status.idle": "2025-03-21T04:57:06.082694Z",
          "shell.execute_reply": "2025-03-21T04:57:06.082479Z"
        },
        "id": "WbUrhr3U26BB"
      },
      "outputs": [],
      "execution_count": null
    }
  ]
}